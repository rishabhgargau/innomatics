{
 "cells": [
  {
   "cell_type": "code",
   "execution_count": 1,
   "metadata": {},
   "outputs": [],
   "source": [
    "import os\n",
    "import pandas as pd\n",
    "import numpy as np \n",
    "import matplotlib.pyplot as plt\n",
    "import seaborn as sns\n",
    "from sklearn.cluster import KMeans\n",
    "from sklearn.metrics import pairwise_distances\n",
    "from scipy.cluster.hierarchy import linkage, dendrogram, cut_tree\n",
    "from scipy.spatial.distance import pdist \n",
    "import matplotlib.pyplot as plt\n",
    "import seaborn as sns\n",
    "%matplotlib inline"
   ]
  },
  {
   "cell_type": "markdown",
   "metadata": {},
   "source": [
    "### Import sklearn libraries for using Logistic Regression model"
   ]
  },
  {
   "cell_type": "code",
   "execution_count": 2,
   "metadata": {},
   "outputs": [],
   "source": [
    "from sklearn.model_selection import train_test_split\n",
    "from sklearn.linear_model import LinearRegression\n",
    "from sklearn.linear_model import LogisticRegression\n",
    "from sklearn import metrics"
   ]
  },
  {
   "cell_type": "markdown",
   "metadata": {},
   "source": [
    "# Mobile Customer Churn\n",
    "\n",
    "In this Portfolio task you will work with some (fake but realistic) data on Mobile Customer Churn with the goal of characterising customers who churn and building a simple predictive model to predict churn from available features. \n",
    "\n",
    "The data was generated (by Hume Winzar at Macquarie) based on a real dataset provided by Optus.  The data is simulated but the column headings are the same. (Note that I'm not sure if all of the real relationships in this data are preserved so you need to be cautious in interpreting the results of your analysis here).  \n",
    "\n",
    "The data is provided in file `MobileCustomerChurn.csv` and column headings are defined in a file `MobileChurnDataDictionary.csv` (store these in the `files` folder in your project).\n",
    "\n",
    "Your high level goal in this notebook are to:\n",
    "* look for significant clusters within the churn data - you might look separately at those who churn and those who don't or group them all together. \n",
    "* try to build and evaluate a predictive model for churn - predict the value of the CHURN_IND field in the data from some of the other fields\n"
   ]
  },
  {
   "cell_type": "code",
   "execution_count": 3,
   "metadata": {},
   "outputs": [],
   "source": [
    "fpath = 'C:/Users/P1331215/Documents/GitHub/portfolio-rishabhgargau/files/'"
   ]
  },
  {
   "cell_type": "code",
   "execution_count": 4,
   "metadata": {},
   "outputs": [
    {
     "data": {
      "text/html": [
       "<div>\n",
       "<style scoped>\n",
       "    .dataframe tbody tr th:only-of-type {\n",
       "        vertical-align: middle;\n",
       "    }\n",
       "\n",
       "    .dataframe tbody tr th {\n",
       "        vertical-align: top;\n",
       "    }\n",
       "\n",
       "    .dataframe thead th {\n",
       "        text-align: right;\n",
       "    }\n",
       "</style>\n",
       "<table border=\"1\" class=\"dataframe\">\n",
       "  <thead>\n",
       "    <tr style=\"text-align: right;\">\n",
       "      <th></th>\n",
       "      <th>CUST_ID</th>\n",
       "      <th>ACCOUNT_TENURE</th>\n",
       "      <th>ACCT_CNT_SERVICES</th>\n",
       "      <th>AGE</th>\n",
       "      <th>CFU</th>\n",
       "      <th>SERVICE_TENURE</th>\n",
       "      <th>PLAN_ACCESS_FEE</th>\n",
       "      <th>BYO_PLAN_STATUS</th>\n",
       "      <th>PLAN_TENURE</th>\n",
       "      <th>MONTHS_OF_CONTRACT_REMAINING</th>\n",
       "      <th>...</th>\n",
       "      <th>CONTRACT_STATUS</th>\n",
       "      <th>PREV_CONTRACT_DURATION</th>\n",
       "      <th>HANDSET_USED_BRAND</th>\n",
       "      <th>CHURN_IND</th>\n",
       "      <th>MONTHLY_SPEND</th>\n",
       "      <th>COUNTRY_METRO_REGION</th>\n",
       "      <th>STATE</th>\n",
       "      <th>RECON_SMS_NEXT_MTH</th>\n",
       "      <th>RECON_TELE_NEXT_MTH</th>\n",
       "      <th>RECON_EMAIL_NEXT_MTH</th>\n",
       "    </tr>\n",
       "    <tr>\n",
       "      <th>INDEX</th>\n",
       "      <th></th>\n",
       "      <th></th>\n",
       "      <th></th>\n",
       "      <th></th>\n",
       "      <th></th>\n",
       "      <th></th>\n",
       "      <th></th>\n",
       "      <th></th>\n",
       "      <th></th>\n",
       "      <th></th>\n",
       "      <th></th>\n",
       "      <th></th>\n",
       "      <th></th>\n",
       "      <th></th>\n",
       "      <th></th>\n",
       "      <th></th>\n",
       "      <th></th>\n",
       "      <th></th>\n",
       "      <th></th>\n",
       "      <th></th>\n",
       "      <th></th>\n",
       "    </tr>\n",
       "  </thead>\n",
       "  <tbody>\n",
       "    <tr>\n",
       "      <th>1</th>\n",
       "      <td>1</td>\n",
       "      <td>46</td>\n",
       "      <td>1</td>\n",
       "      <td>30.0</td>\n",
       "      <td>CONSUMER</td>\n",
       "      <td>46</td>\n",
       "      <td>54.54</td>\n",
       "      <td>NON BYO</td>\n",
       "      <td>15</td>\n",
       "      <td>0</td>\n",
       "      <td>...</td>\n",
       "      <td>OFF-CONTRACT</td>\n",
       "      <td>24</td>\n",
       "      <td>SAMSUNG</td>\n",
       "      <td>1</td>\n",
       "      <td>61.40</td>\n",
       "      <td>COUNTRY</td>\n",
       "      <td>WA</td>\n",
       "      <td>NaN</td>\n",
       "      <td>NaN</td>\n",
       "      <td>NaN</td>\n",
       "    </tr>\n",
       "    <tr>\n",
       "      <th>2</th>\n",
       "      <td>2</td>\n",
       "      <td>60</td>\n",
       "      <td>3</td>\n",
       "      <td>55.0</td>\n",
       "      <td>CONSUMER</td>\n",
       "      <td>59</td>\n",
       "      <td>54.54</td>\n",
       "      <td>NON BYO</td>\n",
       "      <td>5</td>\n",
       "      <td>0</td>\n",
       "      <td>...</td>\n",
       "      <td>OFF-CONTRACT</td>\n",
       "      <td>24</td>\n",
       "      <td>APPLE</td>\n",
       "      <td>1</td>\n",
       "      <td>54.54</td>\n",
       "      <td>METRO</td>\n",
       "      <td>NSW</td>\n",
       "      <td>NaN</td>\n",
       "      <td>NaN</td>\n",
       "      <td>NaN</td>\n",
       "    </tr>\n",
       "    <tr>\n",
       "      <th>3</th>\n",
       "      <td>5</td>\n",
       "      <td>65</td>\n",
       "      <td>1</td>\n",
       "      <td>29.0</td>\n",
       "      <td>CONSUMER</td>\n",
       "      <td>65</td>\n",
       "      <td>40.90</td>\n",
       "      <td>BYO</td>\n",
       "      <td>15</td>\n",
       "      <td>0</td>\n",
       "      <td>...</td>\n",
       "      <td>OFF-CONTRACT</td>\n",
       "      <td>12</td>\n",
       "      <td>APPLE</td>\n",
       "      <td>1</td>\n",
       "      <td>2.50</td>\n",
       "      <td>COUNTRY</td>\n",
       "      <td>WA</td>\n",
       "      <td>NaN</td>\n",
       "      <td>NaN</td>\n",
       "      <td>NaN</td>\n",
       "    </tr>\n",
       "    <tr>\n",
       "      <th>4</th>\n",
       "      <td>6</td>\n",
       "      <td>31</td>\n",
       "      <td>1</td>\n",
       "      <td>51.0</td>\n",
       "      <td>CONSUMER</td>\n",
       "      <td>31</td>\n",
       "      <td>31.81</td>\n",
       "      <td>NON BYO</td>\n",
       "      <td>31</td>\n",
       "      <td>0</td>\n",
       "      <td>...</td>\n",
       "      <td>OFF-CONTRACT</td>\n",
       "      <td>24</td>\n",
       "      <td>APPLE</td>\n",
       "      <td>1</td>\n",
       "      <td>6.48</td>\n",
       "      <td>COUNTRY</td>\n",
       "      <td>VIC</td>\n",
       "      <td>NaN</td>\n",
       "      <td>NaN</td>\n",
       "      <td>NaN</td>\n",
       "    </tr>\n",
       "    <tr>\n",
       "      <th>5</th>\n",
       "      <td>8</td>\n",
       "      <td>95</td>\n",
       "      <td>1</td>\n",
       "      <td>31.0</td>\n",
       "      <td>CONSUMER</td>\n",
       "      <td>95</td>\n",
       "      <td>54.54</td>\n",
       "      <td>NON BYO</td>\n",
       "      <td>0</td>\n",
       "      <td>0</td>\n",
       "      <td>...</td>\n",
       "      <td>OFF-CONTRACT</td>\n",
       "      <td>24</td>\n",
       "      <td>APPLE</td>\n",
       "      <td>1</td>\n",
       "      <td>100.22</td>\n",
       "      <td>METRO</td>\n",
       "      <td>NSW</td>\n",
       "      <td>NaN</td>\n",
       "      <td>NaN</td>\n",
       "      <td>NaN</td>\n",
       "    </tr>\n",
       "  </tbody>\n",
       "</table>\n",
       "<p>5 rows × 21 columns</p>\n",
       "</div>"
      ],
      "text/plain": [
       "       CUST_ID  ACCOUNT_TENURE  ACCT_CNT_SERVICES   AGE       CFU  \\\n",
       "INDEX                                                               \n",
       "1            1              46                  1  30.0  CONSUMER   \n",
       "2            2              60                  3  55.0  CONSUMER   \n",
       "3            5              65                  1  29.0  CONSUMER   \n",
       "4            6              31                  1  51.0  CONSUMER   \n",
       "5            8              95                  1  31.0  CONSUMER   \n",
       "\n",
       "       SERVICE_TENURE  PLAN_ACCESS_FEE BYO_PLAN_STATUS  PLAN_TENURE  \\\n",
       "INDEX                                                                 \n",
       "1                  46            54.54         NON BYO           15   \n",
       "2                  59            54.54         NON BYO            5   \n",
       "3                  65            40.90             BYO           15   \n",
       "4                  31            31.81         NON BYO           31   \n",
       "5                  95            54.54         NON BYO            0   \n",
       "\n",
       "       MONTHS_OF_CONTRACT_REMAINING  ...  CONTRACT_STATUS  \\\n",
       "INDEX                                ...                    \n",
       "1                                 0  ...     OFF-CONTRACT   \n",
       "2                                 0  ...     OFF-CONTRACT   \n",
       "3                                 0  ...     OFF-CONTRACT   \n",
       "4                                 0  ...     OFF-CONTRACT   \n",
       "5                                 0  ...     OFF-CONTRACT   \n",
       "\n",
       "      PREV_CONTRACT_DURATION  HANDSET_USED_BRAND CHURN_IND  MONTHLY_SPEND  \\\n",
       "INDEX                                                                       \n",
       "1                         24             SAMSUNG         1          61.40   \n",
       "2                         24               APPLE         1          54.54   \n",
       "3                         12               APPLE         1           2.50   \n",
       "4                         24               APPLE         1           6.48   \n",
       "5                         24               APPLE         1         100.22   \n",
       "\n",
       "       COUNTRY_METRO_REGION STATE RECON_SMS_NEXT_MTH  RECON_TELE_NEXT_MTH  \\\n",
       "INDEX                                                                       \n",
       "1                   COUNTRY    WA                NaN                  NaN   \n",
       "2                     METRO   NSW                NaN                  NaN   \n",
       "3                   COUNTRY    WA                NaN                  NaN   \n",
       "4                   COUNTRY   VIC                NaN                  NaN   \n",
       "5                     METRO   NSW                NaN                  NaN   \n",
       "\n",
       "       RECON_EMAIL_NEXT_MTH  \n",
       "INDEX                        \n",
       "1                       NaN  \n",
       "2                       NaN  \n",
       "3                       NaN  \n",
       "4                       NaN  \n",
       "5                       NaN  \n",
       "\n",
       "[5 rows x 21 columns]"
      ]
     },
     "execution_count": 4,
     "metadata": {},
     "output_type": "execute_result"
    }
   ],
   "source": [
    "churn = pd.read_csv(os.path.join(\"files\", fpath + \"MobileCustomerChurn.csv\"), na_values=[\"NA\", \"#VALUE!\"], index_col='INDEX')\n",
    "churn.head()"
   ]
  },
  {
   "cell_type": "code",
   "execution_count": 5,
   "metadata": {},
   "outputs": [
    {
     "data": {
      "text/plain": [
       "(46206, 21)"
      ]
     },
     "execution_count": 5,
     "metadata": {},
     "output_type": "execute_result"
    }
   ],
   "source": [
    "churn.shape"
   ]
  },
  {
   "cell_type": "code",
   "execution_count": 6,
   "metadata": {},
   "outputs": [
    {
     "name": "stdout",
     "output_type": "stream",
     "text": [
      "<class 'pandas.core.frame.DataFrame'>\n",
      "Int64Index: 46206 entries, 1 to 46206\n",
      "Data columns (total 21 columns):\n",
      " #   Column                        Non-Null Count  Dtype  \n",
      "---  ------                        --------------  -----  \n",
      " 0   CUST_ID                       46206 non-null  int64  \n",
      " 1   ACCOUNT_TENURE                46206 non-null  int64  \n",
      " 2   ACCT_CNT_SERVICES             46206 non-null  int64  \n",
      " 3   AGE                           46130 non-null  float64\n",
      " 4   CFU                           46206 non-null  object \n",
      " 5   SERVICE_TENURE                46206 non-null  int64  \n",
      " 6   PLAN_ACCESS_FEE               46206 non-null  float64\n",
      " 7   BYO_PLAN_STATUS               46206 non-null  object \n",
      " 8   PLAN_TENURE                   46206 non-null  int64  \n",
      " 9   MONTHS_OF_CONTRACT_REMAINING  46206 non-null  int64  \n",
      " 10  LAST_FX_CONTRACT_DURATION     46206 non-null  int64  \n",
      " 11  CONTRACT_STATUS               46206 non-null  object \n",
      " 12  PREV_CONTRACT_DURATION        46206 non-null  int64  \n",
      " 13  HANDSET_USED_BRAND            46206 non-null  object \n",
      " 14  CHURN_IND                     46206 non-null  int64  \n",
      " 15  MONTHLY_SPEND                 46206 non-null  float64\n",
      " 16  COUNTRY_METRO_REGION          46205 non-null  object \n",
      " 17  STATE                         46205 non-null  object \n",
      " 18  RECON_SMS_NEXT_MTH            28416 non-null  float64\n",
      " 19  RECON_TELE_NEXT_MTH           28416 non-null  float64\n",
      " 20  RECON_EMAIL_NEXT_MTH          28416 non-null  float64\n",
      "dtypes: float64(6), int64(9), object(6)\n",
      "memory usage: 7.8+ MB\n"
     ]
    }
   ],
   "source": [
    "churn.info()"
   ]
  },
  {
   "cell_type": "code",
   "execution_count": 7,
   "metadata": {},
   "outputs": [
    {
     "data": {
      "text/plain": [
       "CUST_ID                             0\n",
       "ACCOUNT_TENURE                      0\n",
       "ACCT_CNT_SERVICES                   0\n",
       "AGE                                76\n",
       "CFU                                 0\n",
       "SERVICE_TENURE                      0\n",
       "PLAN_ACCESS_FEE                     0\n",
       "BYO_PLAN_STATUS                     0\n",
       "PLAN_TENURE                         0\n",
       "MONTHS_OF_CONTRACT_REMAINING        0\n",
       "LAST_FX_CONTRACT_DURATION           0\n",
       "CONTRACT_STATUS                     0\n",
       "PREV_CONTRACT_DURATION              0\n",
       "HANDSET_USED_BRAND                  0\n",
       "CHURN_IND                           0\n",
       "MONTHLY_SPEND                       0\n",
       "COUNTRY_METRO_REGION                1\n",
       "STATE                               1\n",
       "RECON_SMS_NEXT_MTH              17790\n",
       "RECON_TELE_NEXT_MTH             17790\n",
       "RECON_EMAIL_NEXT_MTH            17790\n",
       "dtype: int64"
      ]
     },
     "execution_count": 7,
     "metadata": {},
     "output_type": "execute_result"
    }
   ],
   "source": [
    "churn.isnull().sum()"
   ]
  },
  {
   "cell_type": "markdown",
   "metadata": {},
   "source": [
    "#### As shown above, 76 records missing values in Age, 1 record missing in REGION and STATE each\n",
    "#### so we will remove these from our dataset "
   ]
  },
  {
   "cell_type": "code",
   "execution_count": 8,
   "metadata": {},
   "outputs": [
    {
     "data": {
      "text/html": [
       "<div>\n",
       "<style scoped>\n",
       "    .dataframe tbody tr th:only-of-type {\n",
       "        vertical-align: middle;\n",
       "    }\n",
       "\n",
       "    .dataframe tbody tr th {\n",
       "        vertical-align: top;\n",
       "    }\n",
       "\n",
       "    .dataframe thead th {\n",
       "        text-align: right;\n",
       "    }\n",
       "</style>\n",
       "<table border=\"1\" class=\"dataframe\">\n",
       "  <thead>\n",
       "    <tr style=\"text-align: right;\">\n",
       "      <th></th>\n",
       "      <th>CUST_ID</th>\n",
       "      <th>ACCOUNT_TENURE</th>\n",
       "      <th>ACCT_CNT_SERVICES</th>\n",
       "      <th>AGE</th>\n",
       "      <th>CFU</th>\n",
       "      <th>SERVICE_TENURE</th>\n",
       "      <th>PLAN_ACCESS_FEE</th>\n",
       "      <th>BYO_PLAN_STATUS</th>\n",
       "      <th>PLAN_TENURE</th>\n",
       "      <th>MONTHS_OF_CONTRACT_REMAINING</th>\n",
       "      <th>...</th>\n",
       "      <th>CONTRACT_STATUS</th>\n",
       "      <th>PREV_CONTRACT_DURATION</th>\n",
       "      <th>HANDSET_USED_BRAND</th>\n",
       "      <th>CHURN_IND</th>\n",
       "      <th>MONTHLY_SPEND</th>\n",
       "      <th>COUNTRY_METRO_REGION</th>\n",
       "      <th>STATE</th>\n",
       "      <th>RECON_SMS_NEXT_MTH</th>\n",
       "      <th>RECON_TELE_NEXT_MTH</th>\n",
       "      <th>RECON_EMAIL_NEXT_MTH</th>\n",
       "    </tr>\n",
       "    <tr>\n",
       "      <th>INDEX</th>\n",
       "      <th></th>\n",
       "      <th></th>\n",
       "      <th></th>\n",
       "      <th></th>\n",
       "      <th></th>\n",
       "      <th></th>\n",
       "      <th></th>\n",
       "      <th></th>\n",
       "      <th></th>\n",
       "      <th></th>\n",
       "      <th></th>\n",
       "      <th></th>\n",
       "      <th></th>\n",
       "      <th></th>\n",
       "      <th></th>\n",
       "      <th></th>\n",
       "      <th></th>\n",
       "      <th></th>\n",
       "      <th></th>\n",
       "      <th></th>\n",
       "      <th></th>\n",
       "    </tr>\n",
       "  </thead>\n",
       "  <tbody>\n",
       "    <tr>\n",
       "      <th>23119</th>\n",
       "      <td>43285</td>\n",
       "      <td>94</td>\n",
       "      <td>1</td>\n",
       "      <td>52.0</td>\n",
       "      <td>CONSUMER</td>\n",
       "      <td>194</td>\n",
       "      <td>72.72</td>\n",
       "      <td>NON BYO</td>\n",
       "      <td>3</td>\n",
       "      <td>21</td>\n",
       "      <td>...</td>\n",
       "      <td>ON-CONTRACT</td>\n",
       "      <td>24</td>\n",
       "      <td>APPLE</td>\n",
       "      <td>0</td>\n",
       "      <td>72.72</td>\n",
       "      <td>NaN</td>\n",
       "      <td>NaN</td>\n",
       "      <td>0.0</td>\n",
       "      <td>0.0</td>\n",
       "      <td>0.0</td>\n",
       "    </tr>\n",
       "  </tbody>\n",
       "</table>\n",
       "<p>1 rows × 21 columns</p>\n",
       "</div>"
      ],
      "text/plain": [
       "       CUST_ID  ACCOUNT_TENURE  ACCT_CNT_SERVICES   AGE       CFU  \\\n",
       "INDEX                                                               \n",
       "23119    43285              94                  1  52.0  CONSUMER   \n",
       "\n",
       "       SERVICE_TENURE  PLAN_ACCESS_FEE BYO_PLAN_STATUS  PLAN_TENURE  \\\n",
       "INDEX                                                                 \n",
       "23119             194            72.72         NON BYO            3   \n",
       "\n",
       "       MONTHS_OF_CONTRACT_REMAINING  ...  CONTRACT_STATUS  \\\n",
       "INDEX                                ...                    \n",
       "23119                            21  ...      ON-CONTRACT   \n",
       "\n",
       "      PREV_CONTRACT_DURATION  HANDSET_USED_BRAND CHURN_IND  MONTHLY_SPEND  \\\n",
       "INDEX                                                                       \n",
       "23119                     24               APPLE         0          72.72   \n",
       "\n",
       "       COUNTRY_METRO_REGION STATE RECON_SMS_NEXT_MTH  RECON_TELE_NEXT_MTH  \\\n",
       "INDEX                                                                       \n",
       "23119                   NaN   NaN                0.0                  0.0   \n",
       "\n",
       "       RECON_EMAIL_NEXT_MTH  \n",
       "INDEX                        \n",
       "23119                   0.0  \n",
       "\n",
       "[1 rows x 21 columns]"
      ]
     },
     "execution_count": 8,
     "metadata": {},
     "output_type": "execute_result"
    }
   ],
   "source": [
    "churn[churn['COUNTRY_METRO_REGION'].isna()]"
   ]
  },
  {
   "cell_type": "code",
   "execution_count": 9,
   "metadata": {},
   "outputs": [
    {
     "data": {
      "text/plain": [
       "<matplotlib.axes._subplots.AxesSubplot at 0x1d2dd296508>"
      ]
     },
     "execution_count": 9,
     "metadata": {},
     "output_type": "execute_result"
    },
    {
     "data": {
      "image/png": "[encoded data removed]",
      "text/plain": [
       "<Figure size 1440x360 with 1 Axes>"
      ]
     },
     "metadata": {
      "needs_background": "light"
     },
     "output_type": "display_data"
    }
   ],
   "source": [
    "plt.figure(figsize=(20,5))\n",
    "sns.heatmap(churn.isnull(), cbar=False, cmap='viridis')"
   ]
  },
  {
   "cell_type": "markdown",
   "metadata": {},
   "source": [
    "#### As shown above, yellow lines are the missing values in respective columns\n",
    "1. 76 records missing values in Age, so we will remove these from our dataset \n",
    "2. 1 record missing values in COUNTRY_METRO_REGION and STATE, so we will remove that as well\n",
    "2. Remove the following un-relevant columns since they get populated only post churn event:\n",
    "    RECON_SMS_NEXT_MTH, RECON_TELE_NEXT_MTH, RECON_EMAIL_NEXT_MTH"
   ]
  },
  {
   "cell_type": "code",
   "execution_count": 10,
   "metadata": {},
   "outputs": [],
   "source": [
    "churn.dropna(subset=['AGE'], inplace=True)\n",
    "churn.dropna(subset=['COUNTRY_METRO_REGION'], inplace=True)\n",
    "churn.drop(columns=['RECON_SMS_NEXT_MTH', 'RECON_TELE_NEXT_MTH', 'RECON_EMAIL_NEXT_MTH'], inplace=True)"
   ]
  },
  {
   "cell_type": "code",
   "execution_count": 11,
   "metadata": {},
   "outputs": [
    {
     "data": {
      "text/plain": [
       "<matplotlib.axes._subplots.AxesSubplot at 0x1d2ddd1ee88>"
      ]
     },
     "execution_count": 11,
     "metadata": {},
     "output_type": "execute_result"
    },
    {
     "data": {
      "image/png": "[encoded data removed]",
      "text/plain": [
       "<Figure size 1440x360 with 1 Axes>"
      ]
     },
     "metadata": {
      "needs_background": "light"
     },
     "output_type": "display_data"
    }
   ],
   "source": [
    "plt.figure(figsize=(20,5))\n",
    "sns.heatmap(churn.isnull(), cbar=False, cmap='viridis')"
   ]
  },
  {
   "cell_type": "markdown",
   "metadata": {},
   "source": [
    "#### As shown above, all null values are handled now"
   ]
  },
  {
   "cell_type": "code",
   "execution_count": 12,
   "metadata": {},
   "outputs": [
    {
     "data": {
      "text/plain": [
       "(46129, 19)"
      ]
     },
     "execution_count": 12,
     "metadata": {},
     "output_type": "execute_result"
    }
   ],
   "source": [
    "churn = churn.reset_index()\n",
    "churn.shape"
   ]
  },
  {
   "cell_type": "code",
   "execution_count": 13,
   "metadata": {},
   "outputs": [
    {
     "data": {
      "text/plain": [
       "<matplotlib.axes._subplots.AxesSubplot at 0x1d2ddc76e08>"
      ]
     },
     "execution_count": 13,
     "metadata": {},
     "output_type": "execute_result"
    },
    {
     "data": {
      "image/png": "[encoded data removed]",
      "text/plain": [
       "<Figure size 432x288 with 1 Axes>"
      ]
     },
     "metadata": {
      "needs_background": "light"
     },
     "output_type": "display_data"
    }
   ],
   "source": [
    "sns.countplot(x='CHURN_IND', data=churn)"
   ]
  },
  {
   "cell_type": "markdown",
   "metadata": {},
   "source": [
    "#### As shown above, countplot directly counts the categorical column CHURN_IND, the target column to be predicted"
   ]
  },
  {
   "cell_type": "code",
   "execution_count": 14,
   "metadata": {},
   "outputs": [
    {
     "data": {
      "image/png": "[encoded data removed]",
      "text/plain": [
       "<Figure size 432x288 with 1 Axes>"
      ]
     },
     "metadata": {},
     "output_type": "display_data"
    }
   ],
   "source": [
    "subset = churn['CHURN_IND'].value_counts()\n",
    "plt.pie(subset, labels=subset.keys())\n",
    "plt.show()"
   ]
  },
  {
   "cell_type": "markdown",
   "metadata": {},
   "source": [
    "#### Pie chart to get more visual understanding of the target column CHURN_IND"
   ]
  },
  {
   "cell_type": "code",
   "execution_count": 15,
   "metadata": {},
   "outputs": [
    {
     "data": {
      "text/plain": [
       "<matplotlib.axes._subplots.AxesSubplot at 0x1d2ddb84988>"
      ]
     },
     "execution_count": 15,
     "metadata": {},
     "output_type": "execute_result"
    },
    {
     "data": {
      "image/png": "[encoded data removed]",
      "text/plain": [
       "<Figure size 432x288 with 1 Axes>"
      ]
     },
     "metadata": {
      "needs_background": "light"
     },
     "output_type": "display_data"
    }
   ],
   "source": [
    "sns.countplot(x='CHURN_IND', data=churn, hue='ACCT_CNT_SERVICES')"
   ]
  },
  {
   "cell_type": "markdown",
   "metadata": {},
   "source": [
    "#### Count of services doesn't seem to directly affect churn rate"
   ]
  },
  {
   "cell_type": "code",
   "execution_count": 16,
   "metadata": {},
   "outputs": [
    {
     "data": {
      "text/plain": [
       "<matplotlib.axes._subplots.AxesSubplot at 0x1d2de30ae48>"
      ]
     },
     "execution_count": 16,
     "metadata": {},
     "output_type": "execute_result"
    },
    {
     "data": {
      "image/png": "[encoded data removed]",
      "text/plain": [
       "<Figure size 1080x720 with 2 Axes>"
      ]
     },
     "metadata": {
      "needs_background": "light"
     },
     "output_type": "display_data"
    }
   ],
   "source": [
    "plt.figure(figsize=(15,10))\n",
    "sns.heatmap(churn.corr(), annot=True, linewidths=2)"
   ]
  },
  {
   "cell_type": "markdown",
   "metadata": {},
   "source": [
    "#### No clear strong correlations except account_tenure vs service_tenure, however, thats obvious"
   ]
  },
  {
   "cell_type": "markdown",
   "metadata": {},
   "source": [
    "#### Now we prepare data for a Logistics Regression model with followign steps :- \n",
    "1. Convert following categorical columns to numerical columns using get_dummies function:\n",
    "    CFU, BYO_PLAN_STATUS, CONTRACT_STATUS, COUNTRY_METRO_REGION\n",
    "\n",
    "2. Remove the following categorical columns: \n",
    "    CFU, BYO_PLAN_STATUS, CONTRACT_STATUS, HANDSET_USED_BRAND, COUNTRY_METRO_REGION, STATE"
   ]
  },
  {
   "cell_type": "code",
   "execution_count": 17,
   "metadata": {},
   "outputs": [
    {
     "data": {
      "text/plain": [
       "<matplotlib.axes._subplots.AxesSubplot at 0x1d2de82adc8>"
      ]
     },
     "execution_count": 17,
     "metadata": {},
     "output_type": "execute_result"
    },
    {
     "data": {
      "image/png": "[encoded data removed]",
      "text/plain": [
       "<Figure size 432x288 with 1 Axes>"
      ]
     },
     "metadata": {
      "needs_background": "light"
     },
     "output_type": "display_data"
    }
   ],
   "source": [
    "sns.countplot(x='CFU', data=churn, hue='CHURN_IND')"
   ]
  },
  {
   "cell_type": "code",
   "execution_count": 18,
   "metadata": {},
   "outputs": [
    {
     "data": {
      "text/html": [
       "<div>\n",
       "<style scoped>\n",
       "    .dataframe tbody tr th:only-of-type {\n",
       "        vertical-align: middle;\n",
       "    }\n",
       "\n",
       "    .dataframe tbody tr th {\n",
       "        vertical-align: top;\n",
       "    }\n",
       "\n",
       "    .dataframe thead th {\n",
       "        text-align: right;\n",
       "    }\n",
       "</style>\n",
       "<table border=\"1\" class=\"dataframe\">\n",
       "  <thead>\n",
       "    <tr style=\"text-align: right;\">\n",
       "      <th></th>\n",
       "      <th>CFU_CONSUMER</th>\n",
       "      <th>CFU_SMALL BUSINESS</th>\n",
       "    </tr>\n",
       "  </thead>\n",
       "  <tbody>\n",
       "    <tr>\n",
       "      <th>0</th>\n",
       "      <td>1</td>\n",
       "      <td>0</td>\n",
       "    </tr>\n",
       "    <tr>\n",
       "      <th>1</th>\n",
       "      <td>1</td>\n",
       "      <td>0</td>\n",
       "    </tr>\n",
       "    <tr>\n",
       "      <th>2</th>\n",
       "      <td>1</td>\n",
       "      <td>0</td>\n",
       "    </tr>\n",
       "    <tr>\n",
       "      <th>3</th>\n",
       "      <td>1</td>\n",
       "      <td>0</td>\n",
       "    </tr>\n",
       "    <tr>\n",
       "      <th>4</th>\n",
       "      <td>1</td>\n",
       "      <td>0</td>\n",
       "    </tr>\n",
       "  </tbody>\n",
       "</table>\n",
       "</div>"
      ],
      "text/plain": [
       "   CFU_CONSUMER  CFU_SMALL BUSINESS\n",
       "0             1                   0\n",
       "1             1                   0\n",
       "2             1                   0\n",
       "3             1                   0\n",
       "4             1                   0"
      ]
     },
     "execution_count": 18,
     "metadata": {},
     "output_type": "execute_result"
    }
   ],
   "source": [
    "pd.get_dummies(churn['CFU'], prefix='CFU').head()"
   ]
  },
  {
   "cell_type": "code",
   "execution_count": 19,
   "metadata": {},
   "outputs": [
    {
     "data": {
      "text/plain": [
       "<matplotlib.axes._subplots.AxesSubplot at 0x1d2de9ba848>"
      ]
     },
     "execution_count": 19,
     "metadata": {},
     "output_type": "execute_result"
    },
    {
     "data": {
      "image/png": "[encoded data removed]",
      "text/plain": [
       "<Figure size 432x288 with 1 Axes>"
      ]
     },
     "metadata": {
      "needs_background": "light"
     },
     "output_type": "display_data"
    }
   ],
   "source": [
    "sns.countplot(x='BYO_PLAN_STATUS', data=churn, hue='CHURN_IND')"
   ]
  },
  {
   "cell_type": "code",
   "execution_count": 20,
   "metadata": {},
   "outputs": [
    {
     "data": {
      "text/html": [
       "<div>\n",
       "<style scoped>\n",
       "    .dataframe tbody tr th:only-of-type {\n",
       "        vertical-align: middle;\n",
       "    }\n",
       "\n",
       "    .dataframe tbody tr th {\n",
       "        vertical-align: top;\n",
       "    }\n",
       "\n",
       "    .dataframe thead th {\n",
       "        text-align: right;\n",
       "    }\n",
       "</style>\n",
       "<table border=\"1\" class=\"dataframe\">\n",
       "  <thead>\n",
       "    <tr style=\"text-align: right;\">\n",
       "      <th></th>\n",
       "      <th>BYO</th>\n",
       "      <th>NON BYO</th>\n",
       "    </tr>\n",
       "  </thead>\n",
       "  <tbody>\n",
       "    <tr>\n",
       "      <th>0</th>\n",
       "      <td>0</td>\n",
       "      <td>1</td>\n",
       "    </tr>\n",
       "    <tr>\n",
       "      <th>1</th>\n",
       "      <td>0</td>\n",
       "      <td>1</td>\n",
       "    </tr>\n",
       "    <tr>\n",
       "      <th>2</th>\n",
       "      <td>1</td>\n",
       "      <td>0</td>\n",
       "    </tr>\n",
       "    <tr>\n",
       "      <th>3</th>\n",
       "      <td>0</td>\n",
       "      <td>1</td>\n",
       "    </tr>\n",
       "    <tr>\n",
       "      <th>4</th>\n",
       "      <td>0</td>\n",
       "      <td>1</td>\n",
       "    </tr>\n",
       "  </tbody>\n",
       "</table>\n",
       "</div>"
      ],
      "text/plain": [
       "   BYO  NON BYO\n",
       "0    0        1\n",
       "1    0        1\n",
       "2    1        0\n",
       "3    0        1\n",
       "4    0        1"
      ]
     },
     "execution_count": 20,
     "metadata": {},
     "output_type": "execute_result"
    }
   ],
   "source": [
    "pd.get_dummies(churn['BYO_PLAN_STATUS']).head()"
   ]
  },
  {
   "cell_type": "code",
   "execution_count": 21,
   "metadata": {},
   "outputs": [
    {
     "data": {
      "text/plain": [
       "<matplotlib.axes._subplots.AxesSubplot at 0x1d2de3c6b08>"
      ]
     },
     "execution_count": 21,
     "metadata": {},
     "output_type": "execute_result"
    },
    {
     "data": {
      "image/png": "[encoded data removed]",
      "text/plain": [
       "<Figure size 432x288 with 1 Axes>"
      ]
     },
     "metadata": {
      "needs_background": "light"
     },
     "output_type": "display_data"
    }
   ],
   "source": [
    "sns.countplot(x='CONTRACT_STATUS', data=churn, hue='CHURN_IND')"
   ]
  },
  {
   "cell_type": "code",
   "execution_count": 22,
   "metadata": {},
   "outputs": [
    {
     "data": {
      "text/html": [
       "<div>\n",
       "<style scoped>\n",
       "    .dataframe tbody tr th:only-of-type {\n",
       "        vertical-align: middle;\n",
       "    }\n",
       "\n",
       "    .dataframe tbody tr th {\n",
       "        vertical-align: top;\n",
       "    }\n",
       "\n",
       "    .dataframe thead th {\n",
       "        text-align: right;\n",
       "    }\n",
       "</style>\n",
       "<table border=\"1\" class=\"dataframe\">\n",
       "  <thead>\n",
       "    <tr style=\"text-align: right;\">\n",
       "      <th></th>\n",
       "      <th>NO-CONTRACT</th>\n",
       "      <th>OFF-CONTRACT</th>\n",
       "      <th>ON-CONTRACT</th>\n",
       "    </tr>\n",
       "  </thead>\n",
       "  <tbody>\n",
       "    <tr>\n",
       "      <th>0</th>\n",
       "      <td>0</td>\n",
       "      <td>1</td>\n",
       "      <td>0</td>\n",
       "    </tr>\n",
       "    <tr>\n",
       "      <th>1</th>\n",
       "      <td>0</td>\n",
       "      <td>1</td>\n",
       "      <td>0</td>\n",
       "    </tr>\n",
       "    <tr>\n",
       "      <th>2</th>\n",
       "      <td>0</td>\n",
       "      <td>1</td>\n",
       "      <td>0</td>\n",
       "    </tr>\n",
       "    <tr>\n",
       "      <th>3</th>\n",
       "      <td>0</td>\n",
       "      <td>1</td>\n",
       "      <td>0</td>\n",
       "    </tr>\n",
       "    <tr>\n",
       "      <th>4</th>\n",
       "      <td>0</td>\n",
       "      <td>1</td>\n",
       "      <td>0</td>\n",
       "    </tr>\n",
       "  </tbody>\n",
       "</table>\n",
       "</div>"
      ],
      "text/plain": [
       "   NO-CONTRACT  OFF-CONTRACT  ON-CONTRACT\n",
       "0            0             1            0\n",
       "1            0             1            0\n",
       "2            0             1            0\n",
       "3            0             1            0\n",
       "4            0             1            0"
      ]
     },
     "execution_count": 22,
     "metadata": {},
     "output_type": "execute_result"
    }
   ],
   "source": [
    "pd.get_dummies(churn['CONTRACT_STATUS']).head()"
   ]
  },
  {
   "cell_type": "code",
   "execution_count": 23,
   "metadata": {},
   "outputs": [
    {
     "data": {
      "text/plain": [
       "<matplotlib.axes._subplots.AxesSubplot at 0x1d2de43a4c8>"
      ]
     },
     "execution_count": 23,
     "metadata": {},
     "output_type": "execute_result"
    },
    {
     "data": {
      "image/png": "[encoded data removed]",
      "text/plain": [
       "<Figure size 432x288 with 1 Axes>"
      ]
     },
     "metadata": {
      "needs_background": "light"
     },
     "output_type": "display_data"
    }
   ],
   "source": [
    "sns.countplot(x='COUNTRY_METRO_REGION', data=churn, hue='CHURN_IND')"
   ]
  },
  {
   "cell_type": "code",
   "execution_count": 24,
   "metadata": {},
   "outputs": [
    {
     "data": {
      "text/html": [
       "<div>\n",
       "<style scoped>\n",
       "    .dataframe tbody tr th:only-of-type {\n",
       "        vertical-align: middle;\n",
       "    }\n",
       "\n",
       "    .dataframe tbody tr th {\n",
       "        vertical-align: top;\n",
       "    }\n",
       "\n",
       "    .dataframe thead th {\n",
       "        text-align: right;\n",
       "    }\n",
       "</style>\n",
       "<table border=\"1\" class=\"dataframe\">\n",
       "  <thead>\n",
       "    <tr style=\"text-align: right;\">\n",
       "      <th></th>\n",
       "      <th>REGION_COUNTRY</th>\n",
       "      <th>REGION_METRO</th>\n",
       "    </tr>\n",
       "  </thead>\n",
       "  <tbody>\n",
       "    <tr>\n",
       "      <th>0</th>\n",
       "      <td>1</td>\n",
       "      <td>0</td>\n",
       "    </tr>\n",
       "    <tr>\n",
       "      <th>1</th>\n",
       "      <td>0</td>\n",
       "      <td>1</td>\n",
       "    </tr>\n",
       "    <tr>\n",
       "      <th>2</th>\n",
       "      <td>1</td>\n",
       "      <td>0</td>\n",
       "    </tr>\n",
       "    <tr>\n",
       "      <th>3</th>\n",
       "      <td>1</td>\n",
       "      <td>0</td>\n",
       "    </tr>\n",
       "    <tr>\n",
       "      <th>4</th>\n",
       "      <td>0</td>\n",
       "      <td>1</td>\n",
       "    </tr>\n",
       "  </tbody>\n",
       "</table>\n",
       "</div>"
      ],
      "text/plain": [
       "   REGION_COUNTRY  REGION_METRO\n",
       "0               1             0\n",
       "1               0             1\n",
       "2               1             0\n",
       "3               1             0\n",
       "4               0             1"
      ]
     },
     "execution_count": 24,
     "metadata": {},
     "output_type": "execute_result"
    }
   ],
   "source": [
    "pd.get_dummies(churn['COUNTRY_METRO_REGION'], prefix='REGION').head()"
   ]
  },
  {
   "cell_type": "code",
   "execution_count": 25,
   "metadata": {},
   "outputs": [],
   "source": [
    "df_cfu = pd.get_dummies(churn['CFU'], prefix='CFU')\n",
    "df_byo = pd.get_dummies(churn['BYO_PLAN_STATUS'])\n",
    "df_contract = pd.get_dummies(churn['CONTRACT_STATUS'])\n",
    "df_region = pd.get_dummies(churn['COUNTRY_METRO_REGION'], prefix='REGION')"
   ]
  },
  {
   "cell_type": "code",
   "execution_count": 26,
   "metadata": {},
   "outputs": [],
   "source": [
    "churn.drop(columns=['CFU', 'BYO_PLAN_STATUS', 'CONTRACT_STATUS', 'HANDSET_USED_BRAND', 'COUNTRY_METRO_REGION', 'STATE']\n",
    "          , inplace=True)"
   ]
  },
  {
   "cell_type": "code",
   "execution_count": 27,
   "metadata": {},
   "outputs": [],
   "source": [
    "churn = churn.reset_index()"
   ]
  },
  {
   "cell_type": "code",
   "execution_count": 28,
   "metadata": {},
   "outputs": [
    {
     "data": {
      "text/html": [
       "<div>\n",
       "<style scoped>\n",
       "    .dataframe tbody tr th:only-of-type {\n",
       "        vertical-align: middle;\n",
       "    }\n",
       "\n",
       "    .dataframe tbody tr th {\n",
       "        vertical-align: top;\n",
       "    }\n",
       "\n",
       "    .dataframe thead th {\n",
       "        text-align: right;\n",
       "    }\n",
       "</style>\n",
       "<table border=\"1\" class=\"dataframe\">\n",
       "  <thead>\n",
       "    <tr style=\"text-align: right;\">\n",
       "      <th></th>\n",
       "      <th>index</th>\n",
       "      <th>INDEX</th>\n",
       "      <th>CUST_ID</th>\n",
       "      <th>ACCOUNT_TENURE</th>\n",
       "      <th>ACCT_CNT_SERVICES</th>\n",
       "      <th>AGE</th>\n",
       "      <th>SERVICE_TENURE</th>\n",
       "      <th>PLAN_ACCESS_FEE</th>\n",
       "      <th>PLAN_TENURE</th>\n",
       "      <th>MONTHS_OF_CONTRACT_REMAINING</th>\n",
       "      <th>...</th>\n",
       "      <th>MONTHLY_SPEND</th>\n",
       "      <th>CFU_CONSUMER</th>\n",
       "      <th>CFU_SMALL BUSINESS</th>\n",
       "      <th>BYO</th>\n",
       "      <th>NON BYO</th>\n",
       "      <th>NO-CONTRACT</th>\n",
       "      <th>OFF-CONTRACT</th>\n",
       "      <th>ON-CONTRACT</th>\n",
       "      <th>REGION_COUNTRY</th>\n",
       "      <th>REGION_METRO</th>\n",
       "    </tr>\n",
       "  </thead>\n",
       "  <tbody>\n",
       "    <tr>\n",
       "      <th>0</th>\n",
       "      <td>0</td>\n",
       "      <td>1</td>\n",
       "      <td>1</td>\n",
       "      <td>46</td>\n",
       "      <td>1</td>\n",
       "      <td>30.0</td>\n",
       "      <td>46</td>\n",
       "      <td>54.54</td>\n",
       "      <td>15</td>\n",
       "      <td>0</td>\n",
       "      <td>...</td>\n",
       "      <td>61.40</td>\n",
       "      <td>1</td>\n",
       "      <td>0</td>\n",
       "      <td>0</td>\n",
       "      <td>1</td>\n",
       "      <td>0</td>\n",
       "      <td>1</td>\n",
       "      <td>0</td>\n",
       "      <td>1</td>\n",
       "      <td>0</td>\n",
       "    </tr>\n",
       "    <tr>\n",
       "      <th>1</th>\n",
       "      <td>1</td>\n",
       "      <td>2</td>\n",
       "      <td>2</td>\n",
       "      <td>60</td>\n",
       "      <td>3</td>\n",
       "      <td>55.0</td>\n",
       "      <td>59</td>\n",
       "      <td>54.54</td>\n",
       "      <td>5</td>\n",
       "      <td>0</td>\n",
       "      <td>...</td>\n",
       "      <td>54.54</td>\n",
       "      <td>1</td>\n",
       "      <td>0</td>\n",
       "      <td>0</td>\n",
       "      <td>1</td>\n",
       "      <td>0</td>\n",
       "      <td>1</td>\n",
       "      <td>0</td>\n",
       "      <td>0</td>\n",
       "      <td>1</td>\n",
       "    </tr>\n",
       "    <tr>\n",
       "      <th>2</th>\n",
       "      <td>2</td>\n",
       "      <td>3</td>\n",
       "      <td>5</td>\n",
       "      <td>65</td>\n",
       "      <td>1</td>\n",
       "      <td>29.0</td>\n",
       "      <td>65</td>\n",
       "      <td>40.90</td>\n",
       "      <td>15</td>\n",
       "      <td>0</td>\n",
       "      <td>...</td>\n",
       "      <td>2.50</td>\n",
       "      <td>1</td>\n",
       "      <td>0</td>\n",
       "      <td>1</td>\n",
       "      <td>0</td>\n",
       "      <td>0</td>\n",
       "      <td>1</td>\n",
       "      <td>0</td>\n",
       "      <td>1</td>\n",
       "      <td>0</td>\n",
       "    </tr>\n",
       "    <tr>\n",
       "      <th>3</th>\n",
       "      <td>3</td>\n",
       "      <td>4</td>\n",
       "      <td>6</td>\n",
       "      <td>31</td>\n",
       "      <td>1</td>\n",
       "      <td>51.0</td>\n",
       "      <td>31</td>\n",
       "      <td>31.81</td>\n",
       "      <td>31</td>\n",
       "      <td>0</td>\n",
       "      <td>...</td>\n",
       "      <td>6.48</td>\n",
       "      <td>1</td>\n",
       "      <td>0</td>\n",
       "      <td>0</td>\n",
       "      <td>1</td>\n",
       "      <td>0</td>\n",
       "      <td>1</td>\n",
       "      <td>0</td>\n",
       "      <td>1</td>\n",
       "      <td>0</td>\n",
       "    </tr>\n",
       "    <tr>\n",
       "      <th>4</th>\n",
       "      <td>4</td>\n",
       "      <td>5</td>\n",
       "      <td>8</td>\n",
       "      <td>95</td>\n",
       "      <td>1</td>\n",
       "      <td>31.0</td>\n",
       "      <td>95</td>\n",
       "      <td>54.54</td>\n",
       "      <td>0</td>\n",
       "      <td>0</td>\n",
       "      <td>...</td>\n",
       "      <td>100.22</td>\n",
       "      <td>1</td>\n",
       "      <td>0</td>\n",
       "      <td>0</td>\n",
       "      <td>1</td>\n",
       "      <td>0</td>\n",
       "      <td>1</td>\n",
       "      <td>0</td>\n",
       "      <td>0</td>\n",
       "      <td>1</td>\n",
       "    </tr>\n",
       "  </tbody>\n",
       "</table>\n",
       "<p>5 rows × 23 columns</p>\n",
       "</div>"
      ],
      "text/plain": [
       "   index  INDEX  CUST_ID  ACCOUNT_TENURE  ACCT_CNT_SERVICES   AGE  \\\n",
       "0      0      1        1              46                  1  30.0   \n",
       "1      1      2        2              60                  3  55.0   \n",
       "2      2      3        5              65                  1  29.0   \n",
       "3      3      4        6              31                  1  51.0   \n",
       "4      4      5        8              95                  1  31.0   \n",
       "\n",
       "   SERVICE_TENURE  PLAN_ACCESS_FEE  PLAN_TENURE  MONTHS_OF_CONTRACT_REMAINING  \\\n",
       "0              46            54.54           15                             0   \n",
       "1              59            54.54            5                             0   \n",
       "2              65            40.90           15                             0   \n",
       "3              31            31.81           31                             0   \n",
       "4              95            54.54            0                             0   \n",
       "\n",
       "   ...  MONTHLY_SPEND  CFU_CONSUMER  CFU_SMALL BUSINESS  BYO  NON BYO  \\\n",
       "0  ...          61.40             1                   0    0        1   \n",
       "1  ...          54.54             1                   0    0        1   \n",
       "2  ...           2.50             1                   0    1        0   \n",
       "3  ...           6.48             1                   0    0        1   \n",
       "4  ...         100.22             1                   0    0        1   \n",
       "\n",
       "   NO-CONTRACT  OFF-CONTRACT  ON-CONTRACT  REGION_COUNTRY  REGION_METRO  \n",
       "0            0             1            0               1             0  \n",
       "1            0             1            0               0             1  \n",
       "2            0             1            0               1             0  \n",
       "3            0             1            0               1             0  \n",
       "4            0             1            0               0             1  \n",
       "\n",
       "[5 rows x 23 columns]"
      ]
     },
     "execution_count": 28,
     "metadata": {},
     "output_type": "execute_result"
    }
   ],
   "source": [
    "df = pd.concat([churn, df_cfu, df_byo, df_contract, df_region], axis=1)\n",
    "df.head()"
   ]
  },
  {
   "cell_type": "markdown",
   "metadata": {},
   "source": [
    "#### Now we are left with only numerical columns and dataframe is ready for model building"
   ]
  },
  {
   "cell_type": "code",
   "execution_count": 29,
   "metadata": {},
   "outputs": [
    {
     "data": {
      "text/plain": [
       "Index(['index', 'INDEX', 'CUST_ID', 'ACCOUNT_TENURE', 'ACCT_CNT_SERVICES',\n",
       "       'AGE', 'SERVICE_TENURE', 'PLAN_ACCESS_FEE', 'PLAN_TENURE',\n",
       "       'MONTHS_OF_CONTRACT_REMAINING', 'LAST_FX_CONTRACT_DURATION',\n",
       "       'PREV_CONTRACT_DURATION', 'CHURN_IND', 'MONTHLY_SPEND', 'CFU_CONSUMER',\n",
       "       'CFU_SMALL BUSINESS', 'BYO', 'NON BYO', 'NO-CONTRACT', 'OFF-CONTRACT',\n",
       "       'ON-CONTRACT', 'REGION_COUNTRY', 'REGION_METRO'],\n",
       "      dtype='object')"
      ]
     },
     "execution_count": 29,
     "metadata": {},
     "output_type": "execute_result"
    }
   ],
   "source": [
    "df.columns"
   ]
  },
  {
   "cell_type": "code",
   "execution_count": 30,
   "metadata": {},
   "outputs": [],
   "source": [
    "df.drop(columns=['index', 'INDEX', 'CUST_ID'], inplace=True)"
   ]
  },
  {
   "cell_type": "markdown",
   "metadata": {},
   "source": [
    "#### Dropping un-relevant columns of index and cutomer_id"
   ]
  },
  {
   "cell_type": "code",
   "execution_count": 31,
   "metadata": {},
   "outputs": [
    {
     "data": {
      "text/plain": [
       "Index(['ACCOUNT_TENURE', 'ACCT_CNT_SERVICES', 'AGE', 'SERVICE_TENURE',\n",
       "       'PLAN_ACCESS_FEE', 'PLAN_TENURE', 'MONTHS_OF_CONTRACT_REMAINING',\n",
       "       'LAST_FX_CONTRACT_DURATION', 'PREV_CONTRACT_DURATION', 'CHURN_IND',\n",
       "       'MONTHLY_SPEND', 'CFU_CONSUMER', 'CFU_SMALL BUSINESS', 'BYO', 'NON BYO',\n",
       "       'NO-CONTRACT', 'OFF-CONTRACT', 'ON-CONTRACT', 'REGION_COUNTRY',\n",
       "       'REGION_METRO'],\n",
       "      dtype='object')"
      ]
     },
     "execution_count": 31,
     "metadata": {},
     "output_type": "execute_result"
    }
   ],
   "source": [
    "df.columns"
   ]
  },
  {
   "cell_type": "markdown",
   "metadata": {},
   "source": [
    "# Building Logistic Regression Model"
   ]
  },
  {
   "cell_type": "code",
   "execution_count": 32,
   "metadata": {},
   "outputs": [],
   "source": [
    "# Segregate features from the target column - CHURN_IND\n",
    "\n",
    "features = ['ACCOUNT_TENURE', 'ACCT_CNT_SERVICES', 'AGE', 'SERVICE_TENURE',\n",
    "       'PLAN_ACCESS_FEE', 'PLAN_TENURE', 'MONTHS_OF_CONTRACT_REMAINING',\n",
    "       'LAST_FX_CONTRACT_DURATION', 'PREV_CONTRACT_DURATION',\n",
    "       'MONTHLY_SPEND', 'CFU_CONSUMER', 'CFU_SMALL BUSINESS', 'BYO', 'NON BYO',\n",
    "       'NO-CONTRACT', 'OFF-CONTRACT', 'ON-CONTRACT', 'REGION_COUNTRY',\n",
    "       'REGION_METRO']\n",
    "\n",
    "X = df[features]\n",
    "Y = df['CHURN_IND']"
   ]
  },
  {
   "cell_type": "code",
   "execution_count": 33,
   "metadata": {},
   "outputs": [],
   "source": [
    "# Use model_selection function of train_test_split to create training and testing data\n",
    "\n",
    "X_train, X_test, Y_train, Y_test = train_test_split(X, Y, test_size=0.2, random_state=101)"
   ]
  },
  {
   "cell_type": "code",
   "execution_count": 34,
   "metadata": {},
   "outputs": [
    {
     "name": "stdout",
     "output_type": "stream",
     "text": [
      "(36903, 19)\n",
      "(9226, 19)\n",
      "(36903,)\n",
      "(9226,)\n"
     ]
    }
   ],
   "source": [
    "print(X_train.shape)\n",
    "print(X_test.shape)\n",
    "print(Y_train.shape)\n",
    "print(Y_test.shape)"
   ]
  },
  {
   "cell_type": "markdown",
   "metadata": {},
   "source": [
    "#### Following step to fit the logistic model on training data"
   ]
  },
  {
   "cell_type": "code",
   "execution_count": 35,
   "metadata": {},
   "outputs": [
    {
     "name": "stderr",
     "output_type": "stream",
     "text": [
      "C:\\Users\\P1331215\\Anaconda3\\lib\\site-packages\\sklearn\\linear_model\\_logistic.py:940: ConvergenceWarning: lbfgs failed to converge (status=1):\n",
      "STOP: TOTAL NO. of ITERATIONS REACHED LIMIT.\n",
      "\n",
      "Increase the number of iterations (max_iter) or scale the data as shown in:\n",
      "    https://scikit-learn.org/stable/modules/preprocessing.html\n",
      "Please also refer to the documentation for alternative solver options:\n",
      "    https://scikit-learn.org/stable/modules/linear_model.html#logistic-regression\n",
      "  extra_warning_msg=_LOGISTIC_SOLVER_CONVERGENCE_MSG)\n"
     ]
    },
    {
     "data": {
      "text/plain": [
       "LogisticRegression(C=1.0, class_weight=None, dual=False, fit_intercept=True,\n",
       "                   intercept_scaling=1, l1_ratio=None, max_iter=100,\n",
       "                   multi_class='auto', n_jobs=None, penalty='l2',\n",
       "                   random_state=None, solver='lbfgs', tol=0.0001, verbose=0,\n",
       "                   warm_start=False)"
      ]
     },
     "execution_count": 35,
     "metadata": {},
     "output_type": "execute_result"
    }
   ],
   "source": [
    "logmodel = LogisticRegression()\n",
    "logmodel.fit(X_train, Y_train)"
   ]
  },
  {
   "cell_type": "markdown",
   "metadata": {},
   "source": [
    "#### Following step to generate prediction"
   ]
  },
  {
   "cell_type": "code",
   "execution_count": 36,
   "metadata": {},
   "outputs": [],
   "source": [
    "predict_train = logmodel.predict(X_train)\n",
    "predict_test = logmodel.predict(X_test)"
   ]
  },
  {
   "cell_type": "markdown",
   "metadata": {},
   "source": [
    "#### Following step to see the regession model intercept and coeff. values"
   ]
  },
  {
   "cell_type": "code",
   "execution_count": 37,
   "metadata": {},
   "outputs": [
    {
     "name": "stdout",
     "output_type": "stream",
     "text": [
      "[0.21274173]\n",
      "[[-0.0062161  -0.01643772 -0.01457827 -0.00561837 -0.00601638  0.00913366\n",
      "  -0.08027343  0.01041184 -0.01147973  0.01185268  0.22506116 -0.01241038\n",
      "  -0.18678172  0.3994325   0.17739151  0.64426846 -0.6090092   0.23957092\n",
      "  -0.02692014]]\n"
     ]
    }
   ],
   "source": [
    "print(logmodel.intercept_)\n",
    "print(logmodel.coef_)"
   ]
  },
  {
   "cell_type": "code",
   "execution_count": 38,
   "metadata": {},
   "outputs": [
    {
     "data": {
      "text/html": [
       "<div>\n",
       "<style scoped>\n",
       "    .dataframe tbody tr th:only-of-type {\n",
       "        vertical-align: middle;\n",
       "    }\n",
       "\n",
       "    .dataframe tbody tr th {\n",
       "        vertical-align: top;\n",
       "    }\n",
       "\n",
       "    .dataframe thead th {\n",
       "        text-align: right;\n",
       "    }\n",
       "</style>\n",
       "<table border=\"1\" class=\"dataframe\">\n",
       "  <thead>\n",
       "    <tr style=\"text-align: right;\">\n",
       "      <th></th>\n",
       "      <th>ACCOUNT_TENURE</th>\n",
       "      <th>ACCT_CNT_SERVICES</th>\n",
       "      <th>AGE</th>\n",
       "      <th>SERVICE_TENURE</th>\n",
       "      <th>PLAN_ACCESS_FEE</th>\n",
       "      <th>PLAN_TENURE</th>\n",
       "      <th>MONTHS_OF_CONTRACT_REMAINING</th>\n",
       "      <th>LAST_FX_CONTRACT_DURATION</th>\n",
       "      <th>PREV_CONTRACT_DURATION</th>\n",
       "      <th>MONTHLY_SPEND</th>\n",
       "      <th>CFU_CONSUMER</th>\n",
       "      <th>CFU_SMALL BUSINESS</th>\n",
       "      <th>BYO</th>\n",
       "      <th>NON BYO</th>\n",
       "      <th>NO-CONTRACT</th>\n",
       "      <th>OFF-CONTRACT</th>\n",
       "      <th>ON-CONTRACT</th>\n",
       "      <th>REGION_COUNTRY</th>\n",
       "      <th>REGION_METRO</th>\n",
       "    </tr>\n",
       "  </thead>\n",
       "  <tbody>\n",
       "    <tr>\n",
       "      <th>34518</th>\n",
       "      <td>23</td>\n",
       "      <td>2</td>\n",
       "      <td>22.0</td>\n",
       "      <td>23</td>\n",
       "      <td>90.90</td>\n",
       "      <td>4</td>\n",
       "      <td>13</td>\n",
       "      <td>24</td>\n",
       "      <td>24</td>\n",
       "      <td>112.71</td>\n",
       "      <td>1</td>\n",
       "      <td>0</td>\n",
       "      <td>0</td>\n",
       "      <td>1</td>\n",
       "      <td>0</td>\n",
       "      <td>0</td>\n",
       "      <td>1</td>\n",
       "      <td>1</td>\n",
       "      <td>0</td>\n",
       "    </tr>\n",
       "    <tr>\n",
       "      <th>2560</th>\n",
       "      <td>93</td>\n",
       "      <td>1</td>\n",
       "      <td>35.0</td>\n",
       "      <td>137</td>\n",
       "      <td>54.54</td>\n",
       "      <td>24</td>\n",
       "      <td>0</td>\n",
       "      <td>24</td>\n",
       "      <td>24</td>\n",
       "      <td>133.37</td>\n",
       "      <td>1</td>\n",
       "      <td>0</td>\n",
       "      <td>0</td>\n",
       "      <td>1</td>\n",
       "      <td>0</td>\n",
       "      <td>1</td>\n",
       "      <td>0</td>\n",
       "      <td>0</td>\n",
       "      <td>1</td>\n",
       "    </tr>\n",
       "    <tr>\n",
       "      <th>28752</th>\n",
       "      <td>7</td>\n",
       "      <td>2</td>\n",
       "      <td>37.0</td>\n",
       "      <td>6</td>\n",
       "      <td>36.36</td>\n",
       "      <td>6</td>\n",
       "      <td>18</td>\n",
       "      <td>24</td>\n",
       "      <td>0</td>\n",
       "      <td>36.36</td>\n",
       "      <td>1</td>\n",
       "      <td>0</td>\n",
       "      <td>0</td>\n",
       "      <td>1</td>\n",
       "      <td>0</td>\n",
       "      <td>0</td>\n",
       "      <td>1</td>\n",
       "      <td>1</td>\n",
       "      <td>0</td>\n",
       "    </tr>\n",
       "    <tr>\n",
       "      <th>15879</th>\n",
       "      <td>32</td>\n",
       "      <td>1</td>\n",
       "      <td>43.0</td>\n",
       "      <td>32</td>\n",
       "      <td>17.27</td>\n",
       "      <td>3</td>\n",
       "      <td>0</td>\n",
       "      <td>24</td>\n",
       "      <td>24</td>\n",
       "      <td>17.27</td>\n",
       "      <td>1</td>\n",
       "      <td>0</td>\n",
       "      <td>0</td>\n",
       "      <td>1</td>\n",
       "      <td>0</td>\n",
       "      <td>1</td>\n",
       "      <td>0</td>\n",
       "      <td>1</td>\n",
       "      <td>0</td>\n",
       "    </tr>\n",
       "    <tr>\n",
       "      <th>44006</th>\n",
       "      <td>70</td>\n",
       "      <td>3</td>\n",
       "      <td>48.0</td>\n",
       "      <td>70</td>\n",
       "      <td>22.72</td>\n",
       "      <td>21</td>\n",
       "      <td>0</td>\n",
       "      <td>12</td>\n",
       "      <td>12</td>\n",
       "      <td>22.72</td>\n",
       "      <td>0</td>\n",
       "      <td>1</td>\n",
       "      <td>1</td>\n",
       "      <td>0</td>\n",
       "      <td>0</td>\n",
       "      <td>1</td>\n",
       "      <td>0</td>\n",
       "      <td>0</td>\n",
       "      <td>1</td>\n",
       "    </tr>\n",
       "  </tbody>\n",
       "</table>\n",
       "</div>"
      ],
      "text/plain": [
       "       ACCOUNT_TENURE  ACCT_CNT_SERVICES   AGE  SERVICE_TENURE  \\\n",
       "34518              23                  2  22.0              23   \n",
       "2560               93                  1  35.0             137   \n",
       "28752               7                  2  37.0               6   \n",
       "15879              32                  1  43.0              32   \n",
       "44006              70                  3  48.0              70   \n",
       "\n",
       "       PLAN_ACCESS_FEE  PLAN_TENURE  MONTHS_OF_CONTRACT_REMAINING  \\\n",
       "34518            90.90            4                            13   \n",
       "2560             54.54           24                             0   \n",
       "28752            36.36            6                            18   \n",
       "15879            17.27            3                             0   \n",
       "44006            22.72           21                             0   \n",
       "\n",
       "       LAST_FX_CONTRACT_DURATION  PREV_CONTRACT_DURATION  MONTHLY_SPEND  \\\n",
       "34518                         24                      24         112.71   \n",
       "2560                          24                      24         133.37   \n",
       "28752                         24                       0          36.36   \n",
       "15879                         24                      24          17.27   \n",
       "44006                         12                      12          22.72   \n",
       "\n",
       "       CFU_CONSUMER  CFU_SMALL BUSINESS  BYO  NON BYO  NO-CONTRACT  \\\n",
       "34518             1                   0    0        1            0   \n",
       "2560              1                   0    0        1            0   \n",
       "28752             1                   0    0        1            0   \n",
       "15879             1                   0    0        1            0   \n",
       "44006             0                   1    1        0            0   \n",
       "\n",
       "       OFF-CONTRACT  ON-CONTRACT  REGION_COUNTRY  REGION_METRO  \n",
       "34518             0            1               1             0  \n",
       "2560              1            0               0             1  \n",
       "28752             0            1               1             0  \n",
       "15879             1            0               1             0  \n",
       "44006             1            0               0             1  "
      ]
     },
     "execution_count": 38,
     "metadata": {},
     "output_type": "execute_result"
    }
   ],
   "source": [
    "X_train.head()"
   ]
  },
  {
   "cell_type": "code",
   "execution_count": 39,
   "metadata": {},
   "outputs": [
    {
     "data": {
      "text/plain": [
       "34518    1\n",
       "2560     1\n",
       "28752    0\n",
       "15879    0\n",
       "44006    0\n",
       "Name: CHURN_IND, dtype: int64"
      ]
     },
     "execution_count": 39,
     "metadata": {},
     "output_type": "execute_result"
    }
   ],
   "source": [
    "Y_train.head()"
   ]
  },
  {
   "cell_type": "code",
   "execution_count": 40,
   "metadata": {},
   "outputs": [
    {
     "data": {
      "text/plain": [
       "array([0, 1, 0, 1, 0], dtype=int64)"
      ]
     },
     "execution_count": 40,
     "metadata": {},
     "output_type": "execute_result"
    }
   ],
   "source": [
    "predict_train[0:5]"
   ]
  },
  {
   "cell_type": "markdown",
   "metadata": {},
   "source": [
    "#### As shown above, on comparing the top 5 records of Y_train and predict_train :- only 3 / 5 records are correctly predicted"
   ]
  },
  {
   "cell_type": "code",
   "execution_count": 41,
   "metadata": {},
   "outputs": [
    {
     "data": {
      "text/plain": [
       "36903"
      ]
     },
     "execution_count": 41,
     "metadata": {},
     "output_type": "execute_result"
    }
   ],
   "source": [
    "len(list(Y_train))"
   ]
  },
  {
   "cell_type": "code",
   "execution_count": 42,
   "metadata": {},
   "outputs": [
    {
     "data": {
      "text/plain": [
       "36903"
      ]
     },
     "execution_count": 42,
     "metadata": {},
     "output_type": "execute_result"
    }
   ],
   "source": [
    "len(predict_train)"
   ]
  },
  {
   "cell_type": "code",
   "execution_count": 43,
   "metadata": {},
   "outputs": [
    {
     "name": "stdout",
     "output_type": "stream",
     "text": [
      "correct:  26649 \t incorrect:  10254 \t total:  36903\n",
      "accuracy:  72.21364116738476 %\n"
     ]
    }
   ],
   "source": [
    "correct = 0\n",
    "incorrect = 0\n",
    "\n",
    "# Run a loop to check the accuracy of each element of predict_train \n",
    "for i in range(len(list(Y_train))):\n",
    "    if predict_train[i] == list(Y_train)[i]:\n",
    "        correct +=1\n",
    "    else:\n",
    "        incorrect +=1;\n",
    "        \n",
    "\n",
    "# Calculate and print the accuracy of the prediction\n",
    "print('correct: ', correct, '\\t incorrect: ', incorrect, '\\t total: ', correct+incorrect)\n",
    "print('accuracy: ', correct/36903*100, '%')"
   ]
  },
  {
   "cell_type": "markdown",
   "metadata": {},
   "source": [
    "#### As shown above, our model is only 72.21% correct on the training data"
   ]
  },
  {
   "cell_type": "code",
   "execution_count": 44,
   "metadata": {},
   "outputs": [
    {
     "data": {
      "text/plain": [
       "1365     1\n",
       "36281    0\n",
       "34344    0\n",
       "9238     1\n",
       "43372    0\n",
       "Name: CHURN_IND, dtype: int64"
      ]
     },
     "execution_count": 44,
     "metadata": {},
     "output_type": "execute_result"
    }
   ],
   "source": [
    "Y_test.head()"
   ]
  },
  {
   "cell_type": "code",
   "execution_count": 45,
   "metadata": {},
   "outputs": [
    {
     "data": {
      "text/plain": [
       "array([0, 1, 1, 0, 0], dtype=int64)"
      ]
     },
     "execution_count": 45,
     "metadata": {},
     "output_type": "execute_result"
    }
   ],
   "source": [
    "predict_test[0:5]"
   ]
  },
  {
   "cell_type": "markdown",
   "metadata": {},
   "source": [
    "#### As shown above, on comparing the top 5 records of Y_test and predict_test :- only 1 / 5 records are correctly predicted"
   ]
  },
  {
   "cell_type": "code",
   "execution_count": 46,
   "metadata": {},
   "outputs": [
    {
     "data": {
      "text/plain": [
       "9226"
      ]
     },
     "execution_count": 46,
     "metadata": {},
     "output_type": "execute_result"
    }
   ],
   "source": [
    "len(list(Y_test))"
   ]
  },
  {
   "cell_type": "code",
   "execution_count": 47,
   "metadata": {},
   "outputs": [
    {
     "data": {
      "text/plain": [
       "9226"
      ]
     },
     "execution_count": 47,
     "metadata": {},
     "output_type": "execute_result"
    }
   ],
   "source": [
    "len(predict_test)"
   ]
  },
  {
   "cell_type": "code",
   "execution_count": 48,
   "metadata": {},
   "outputs": [
    {
     "name": "stdout",
     "output_type": "stream",
     "text": [
      "correct:  6685 \t incorrect:  2541 \t total:  9226\n",
      "accuracy:  72.45827010622155 %\n"
     ]
    }
   ],
   "source": [
    "correct = 0\n",
    "incorrect = 0\n",
    "\n",
    "# Run a loop to check the accuracy of each element of predict_test \n",
    "for i in range(len(list(Y_test))):\n",
    "    if predict_test[i] == list(Y_test)[i]:\n",
    "        correct +=1\n",
    "    else:\n",
    "        incorrect +=1;\n",
    "        \n",
    "\n",
    "# Calculate and print the accuracy of the prediction\n",
    "print('correct: ', correct, '\\t incorrect: ', incorrect, '\\t total: ', correct+incorrect)\n",
    "print('accuracy: ', correct/9226*100, '%')"
   ]
  },
  {
   "cell_type": "markdown",
   "metadata": {},
   "source": [
    "#### As shown above, our model is only 72.45% correct on the testing data, which seems to be cosistent with training data"
   ]
  },
  {
   "cell_type": "markdown",
   "metadata": {},
   "source": [
    "# My prediction with logistic regression ends here...\n",
    "### Next I have played with clustering with no substantial results"
   ]
  },
  {
   "cell_type": "code",
   "execution_count": null,
   "metadata": {},
   "outputs": [],
   "source": []
  },
  {
   "cell_type": "code",
   "execution_count": null,
   "metadata": {},
   "outputs": [],
   "source": []
  },
  {
   "cell_type": "code",
   "execution_count": null,
   "metadata": {},
   "outputs": [],
   "source": []
  },
  {
   "cell_type": "code",
   "execution_count": null,
   "metadata": {},
   "outputs": [],
   "source": []
  },
  {
   "cell_type": "code",
   "execution_count": null,
   "metadata": {},
   "outputs": [],
   "source": []
  },
  {
   "cell_type": "code",
   "execution_count": null,
   "metadata": {},
   "outputs": [],
   "source": []
  },
  {
   "cell_type": "code",
   "execution_count": null,
   "metadata": {},
   "outputs": [],
   "source": []
  },
  {
   "cell_type": "markdown",
   "metadata": {},
   "source": [
    "# Trial with clustering"
   ]
  },
  {
   "cell_type": "code",
   "execution_count": 49,
   "metadata": {},
   "outputs": [
    {
     "data": {
      "text/html": [
       "<div>\n",
       "<style scoped>\n",
       "    .dataframe tbody tr th:only-of-type {\n",
       "        vertical-align: middle;\n",
       "    }\n",
       "\n",
       "    .dataframe tbody tr th {\n",
       "        vertical-align: top;\n",
       "    }\n",
       "\n",
       "    .dataframe thead th {\n",
       "        text-align: right;\n",
       "    }\n",
       "</style>\n",
       "<table border=\"1\" class=\"dataframe\">\n",
       "  <thead>\n",
       "    <tr style=\"text-align: right;\">\n",
       "      <th></th>\n",
       "      <th>ACCOUNT_TENURE</th>\n",
       "      <th>ACCT_CNT_SERVICES</th>\n",
       "      <th>AGE</th>\n",
       "      <th>SERVICE_TENURE</th>\n",
       "      <th>PLAN_ACCESS_FEE</th>\n",
       "      <th>PLAN_TENURE</th>\n",
       "      <th>MONTHS_OF_CONTRACT_REMAINING</th>\n",
       "      <th>LAST_FX_CONTRACT_DURATION</th>\n",
       "      <th>PREV_CONTRACT_DURATION</th>\n",
       "      <th>CHURN_IND</th>\n",
       "      <th>MONTHLY_SPEND</th>\n",
       "      <th>CFU_CONSUMER</th>\n",
       "      <th>CFU_SMALL BUSINESS</th>\n",
       "      <th>BYO</th>\n",
       "      <th>NON BYO</th>\n",
       "      <th>NO-CONTRACT</th>\n",
       "      <th>OFF-CONTRACT</th>\n",
       "      <th>ON-CONTRACT</th>\n",
       "      <th>REGION_COUNTRY</th>\n",
       "      <th>REGION_METRO</th>\n",
       "    </tr>\n",
       "  </thead>\n",
       "  <tbody>\n",
       "    <tr>\n",
       "      <th>0</th>\n",
       "      <td>0.003410</td>\n",
       "      <td>-0.664470</td>\n",
       "      <td>-0.747625</td>\n",
       "      <td>-0.084023</td>\n",
       "      <td>0.152467</td>\n",
       "      <td>0.424558</td>\n",
       "      <td>-0.987397</td>\n",
       "      <td>0.454268</td>\n",
       "      <td>0.796507</td>\n",
       "      <td>1.263677</td>\n",
       "      <td>-0.187585</td>\n",
       "      <td>0.424771</td>\n",
       "      <td>-0.424771</td>\n",
       "      <td>-0.550119</td>\n",
       "      <td>0.550119</td>\n",
       "      <td>-0.366137</td>\n",
       "      <td>1.645347</td>\n",
       "      <td>-1.256018</td>\n",
       "      <td>1.487072</td>\n",
       "      <td>-1.487072</td>\n",
       "    </tr>\n",
       "    <tr>\n",
       "      <th>1</th>\n",
       "      <td>0.426712</td>\n",
       "      <td>1.732599</td>\n",
       "      <td>0.890236</td>\n",
       "      <td>0.166252</td>\n",
       "      <td>0.152467</td>\n",
       "      <td>-0.598758</td>\n",
       "      <td>-0.987397</td>\n",
       "      <td>0.454268</td>\n",
       "      <td>0.796507</td>\n",
       "      <td>1.263677</td>\n",
       "      <td>-0.281055</td>\n",
       "      <td>0.424771</td>\n",
       "      <td>-0.424771</td>\n",
       "      <td>-0.550119</td>\n",
       "      <td>0.550119</td>\n",
       "      <td>-0.366137</td>\n",
       "      <td>1.645347</td>\n",
       "      <td>-1.256018</td>\n",
       "      <td>-0.672448</td>\n",
       "      <td>0.672448</td>\n",
       "    </tr>\n",
       "    <tr>\n",
       "      <th>2</th>\n",
       "      <td>0.577892</td>\n",
       "      <td>-0.664470</td>\n",
       "      <td>-0.813139</td>\n",
       "      <td>0.281763</td>\n",
       "      <td>-0.501586</td>\n",
       "      <td>0.424558</td>\n",
       "      <td>-0.987397</td>\n",
       "      <td>-1.039526</td>\n",
       "      <td>-0.296226</td>\n",
       "      <td>1.263677</td>\n",
       "      <td>-0.990117</td>\n",
       "      <td>0.424771</td>\n",
       "      <td>-0.424771</td>\n",
       "      <td>1.817749</td>\n",
       "      <td>-1.817749</td>\n",
       "      <td>-0.366137</td>\n",
       "      <td>1.645347</td>\n",
       "      <td>-1.256018</td>\n",
       "      <td>1.487072</td>\n",
       "      <td>-1.487072</td>\n",
       "    </tr>\n",
       "    <tr>\n",
       "      <th>3</th>\n",
       "      <td>-0.450129</td>\n",
       "      <td>-0.664470</td>\n",
       "      <td>0.628178</td>\n",
       "      <td>-0.372802</td>\n",
       "      <td>-0.937462</td>\n",
       "      <td>2.061864</td>\n",
       "      <td>-0.987397</td>\n",
       "      <td>0.454268</td>\n",
       "      <td>0.796507</td>\n",
       "      <td>1.263677</td>\n",
       "      <td>-0.935889</td>\n",
       "      <td>0.424771</td>\n",
       "      <td>-0.424771</td>\n",
       "      <td>-0.550119</td>\n",
       "      <td>0.550119</td>\n",
       "      <td>-0.366137</td>\n",
       "      <td>1.645347</td>\n",
       "      <td>-1.256018</td>\n",
       "      <td>1.487072</td>\n",
       "      <td>-1.487072</td>\n",
       "    </tr>\n",
       "    <tr>\n",
       "      <th>4</th>\n",
       "      <td>1.484968</td>\n",
       "      <td>-0.664470</td>\n",
       "      <td>-0.682111</td>\n",
       "      <td>0.859321</td>\n",
       "      <td>0.152467</td>\n",
       "      <td>-1.110417</td>\n",
       "      <td>-0.987397</td>\n",
       "      <td>0.454268</td>\n",
       "      <td>0.796507</td>\n",
       "      <td>1.263677</td>\n",
       "      <td>0.341350</td>\n",
       "      <td>0.424771</td>\n",
       "      <td>-0.424771</td>\n",
       "      <td>-0.550119</td>\n",
       "      <td>0.550119</td>\n",
       "      <td>-0.366137</td>\n",
       "      <td>1.645347</td>\n",
       "      <td>-1.256018</td>\n",
       "      <td>-0.672448</td>\n",
       "      <td>0.672448</td>\n",
       "    </tr>\n",
       "  </tbody>\n",
       "</table>\n",
       "</div>"
      ],
      "text/plain": [
       "   ACCOUNT_TENURE  ACCT_CNT_SERVICES       AGE  SERVICE_TENURE  \\\n",
       "0        0.003410          -0.664470 -0.747625       -0.084023   \n",
       "1        0.426712           1.732599  0.890236        0.166252   \n",
       "2        0.577892          -0.664470 -0.813139        0.281763   \n",
       "3       -0.450129          -0.664470  0.628178       -0.372802   \n",
       "4        1.484968          -0.664470 -0.682111        0.859321   \n",
       "\n",
       "   PLAN_ACCESS_FEE  PLAN_TENURE  MONTHS_OF_CONTRACT_REMAINING  \\\n",
       "0         0.152467     0.424558                     -0.987397   \n",
       "1         0.152467    -0.598758                     -0.987397   \n",
       "2        -0.501586     0.424558                     -0.987397   \n",
       "3        -0.937462     2.061864                     -0.987397   \n",
       "4         0.152467    -1.110417                     -0.987397   \n",
       "\n",
       "   LAST_FX_CONTRACT_DURATION  PREV_CONTRACT_DURATION  CHURN_IND  \\\n",
       "0                   0.454268                0.796507   1.263677   \n",
       "1                   0.454268                0.796507   1.263677   \n",
       "2                  -1.039526               -0.296226   1.263677   \n",
       "3                   0.454268                0.796507   1.263677   \n",
       "4                   0.454268                0.796507   1.263677   \n",
       "\n",
       "   MONTHLY_SPEND  CFU_CONSUMER  CFU_SMALL BUSINESS       BYO   NON BYO  \\\n",
       "0      -0.187585      0.424771           -0.424771 -0.550119  0.550119   \n",
       "1      -0.281055      0.424771           -0.424771 -0.550119  0.550119   \n",
       "2      -0.990117      0.424771           -0.424771  1.817749 -1.817749   \n",
       "3      -0.935889      0.424771           -0.424771 -0.550119  0.550119   \n",
       "4       0.341350      0.424771           -0.424771 -0.550119  0.550119   \n",
       "\n",
       "   NO-CONTRACT  OFF-CONTRACT  ON-CONTRACT  REGION_COUNTRY  REGION_METRO  \n",
       "0    -0.366137      1.645347    -1.256018        1.487072     -1.487072  \n",
       "1    -0.366137      1.645347    -1.256018       -0.672448      0.672448  \n",
       "2    -0.366137      1.645347    -1.256018        1.487072     -1.487072  \n",
       "3    -0.366137      1.645347    -1.256018        1.487072     -1.487072  \n",
       "4    -0.366137      1.645347    -1.256018       -0.672448      0.672448  "
      ]
     },
     "execution_count": 49,
     "metadata": {},
     "output_type": "execute_result"
    }
   ],
   "source": [
    "df_norm = (df - df.mean()) / df.std()\n",
    "df_norm.head()"
   ]
  },
  {
   "cell_type": "code",
   "execution_count": 50,
   "metadata": {},
   "outputs": [
    {
     "data": {
      "image/png": "[encoded data removed]",
      "text/plain": [
       "<Figure size 402.375x360 with 1 Axes>"
      ]
     },
     "metadata": {
      "needs_background": "light"
     },
     "output_type": "display_data"
    },
    {
     "data": {
      "image/png": "[encoded data removed]",
      "text/plain": [
       "<Figure size 402.375x360 with 1 Axes>"
      ]
     },
     "metadata": {
      "needs_background": "light"
     },
     "output_type": "display_data"
    }
   ],
   "source": [
    "kmeans = KMeans(n_clusters=4, random_state=1)\n",
    "kmeans.fit(df_norm)\n",
    "\n",
    "df_norm['label'] = kmeans.predict(df_norm)\n",
    "_p = sns.lmplot('ACCOUNT_TENURE', 'MONTHS_OF_CONTRACT_REMAINING', data=df_norm, fit_reg=False, hue='label')\n",
    "_p = sns.lmplot('ACCOUNT_TENURE', 'MONTHS_OF_CONTRACT_REMAINING', data=df_norm, fit_reg=False, hue='label')"
   ]
  },
  {
   "cell_type": "code",
   "execution_count": 51,
   "metadata": {},
   "outputs": [
    {
     "data": {
      "text/plain": [
       "0    28366\n",
       "1    17763\n",
       "Name: CHURN_IND, dtype: int64"
      ]
     },
     "execution_count": 51,
     "metadata": {},
     "output_type": "execute_result"
    }
   ],
   "source": [
    "df['CHURN_IND'].value_counts()"
   ]
  },
  {
   "cell_type": "code",
   "execution_count": 52,
   "metadata": {},
   "outputs": [],
   "source": [
    "df1 = df[df['CHURN_IND']==1]\n",
    "df0 = df[df['CHURN_IND']==0]"
   ]
  },
  {
   "cell_type": "code",
   "execution_count": 53,
   "metadata": {},
   "outputs": [
    {
     "data": {
      "text/html": [
       "<div>\n",
       "<style scoped>\n",
       "    .dataframe tbody tr th:only-of-type {\n",
       "        vertical-align: middle;\n",
       "    }\n",
       "\n",
       "    .dataframe tbody tr th {\n",
       "        vertical-align: top;\n",
       "    }\n",
       "\n",
       "    .dataframe thead th {\n",
       "        text-align: right;\n",
       "    }\n",
       "</style>\n",
       "<table border=\"1\" class=\"dataframe\">\n",
       "  <thead>\n",
       "    <tr style=\"text-align: right;\">\n",
       "      <th></th>\n",
       "      <th>ACCOUNT_TENURE</th>\n",
       "      <th>ACCT_CNT_SERVICES</th>\n",
       "      <th>AGE</th>\n",
       "      <th>SERVICE_TENURE</th>\n",
       "      <th>PLAN_ACCESS_FEE</th>\n",
       "      <th>PLAN_TENURE</th>\n",
       "      <th>MONTHS_OF_CONTRACT_REMAINING</th>\n",
       "      <th>LAST_FX_CONTRACT_DURATION</th>\n",
       "      <th>PREV_CONTRACT_DURATION</th>\n",
       "      <th>CHURN_IND</th>\n",
       "      <th>MONTHLY_SPEND</th>\n",
       "      <th>CFU_CONSUMER</th>\n",
       "      <th>CFU_SMALL BUSINESS</th>\n",
       "      <th>BYO</th>\n",
       "      <th>NON BYO</th>\n",
       "      <th>NO-CONTRACT</th>\n",
       "      <th>OFF-CONTRACT</th>\n",
       "      <th>ON-CONTRACT</th>\n",
       "      <th>REGION_COUNTRY</th>\n",
       "      <th>REGION_METRO</th>\n",
       "    </tr>\n",
       "  </thead>\n",
       "  <tbody>\n",
       "    <tr>\n",
       "      <th>0</th>\n",
       "      <td>0.203045</td>\n",
       "      <td>-0.622860</td>\n",
       "      <td>-0.609135</td>\n",
       "      <td>0.127748</td>\n",
       "      <td>0.207007</td>\n",
       "      <td>0.218945</td>\n",
       "      <td>-0.737286</td>\n",
       "      <td>0.499450</td>\n",
       "      <td>0.854218</td>\n",
       "      <td>NaN</td>\n",
       "      <td>-0.312543</td>\n",
       "      <td>0.390078</td>\n",
       "      <td>-0.390078</td>\n",
       "      <td>-0.610839</td>\n",
       "      <td>0.610839</td>\n",
       "      <td>-0.411743</td>\n",
       "      <td>1.256779</td>\n",
       "      <td>-0.936722</td>\n",
       "      <td>1.358368</td>\n",
       "      <td>-1.358368</td>\n",
       "    </tr>\n",
       "    <tr>\n",
       "      <th>1</th>\n",
       "      <td>0.643275</td>\n",
       "      <td>1.926416</td>\n",
       "      <td>1.048167</td>\n",
       "      <td>0.417469</td>\n",
       "      <td>0.207007</td>\n",
       "      <td>-0.694144</td>\n",
       "      <td>-0.737286</td>\n",
       "      <td>0.499450</td>\n",
       "      <td>0.854218</td>\n",
       "      <td>NaN</td>\n",
       "      <td>-0.381192</td>\n",
       "      <td>0.390078</td>\n",
       "      <td>-0.390078</td>\n",
       "      <td>-0.610839</td>\n",
       "      <td>0.610839</td>\n",
       "      <td>-0.411743</td>\n",
       "      <td>1.256779</td>\n",
       "      <td>-0.936722</td>\n",
       "      <td>-0.736136</td>\n",
       "      <td>0.736136</td>\n",
       "    </tr>\n",
       "    <tr>\n",
       "      <th>2</th>\n",
       "      <td>0.800500</td>\n",
       "      <td>-0.622860</td>\n",
       "      <td>-0.675427</td>\n",
       "      <td>0.551187</td>\n",
       "      <td>-0.474441</td>\n",
       "      <td>0.218945</td>\n",
       "      <td>-0.737286</td>\n",
       "      <td>-0.886541</td>\n",
       "      <td>-0.209617</td>\n",
       "      <td>NaN</td>\n",
       "      <td>-0.901962</td>\n",
       "      <td>0.390078</td>\n",
       "      <td>-0.390078</td>\n",
       "      <td>1.637002</td>\n",
       "      <td>-1.637002</td>\n",
       "      <td>-0.411743</td>\n",
       "      <td>1.256779</td>\n",
       "      <td>-0.936722</td>\n",
       "      <td>1.358368</td>\n",
       "      <td>-1.358368</td>\n",
       "    </tr>\n",
       "    <tr>\n",
       "      <th>3</th>\n",
       "      <td>-0.268631</td>\n",
       "      <td>-0.622860</td>\n",
       "      <td>0.782999</td>\n",
       "      <td>-0.206546</td>\n",
       "      <td>-0.928573</td>\n",
       "      <td>1.679888</td>\n",
       "      <td>-0.737286</td>\n",
       "      <td>0.499450</td>\n",
       "      <td>0.854218</td>\n",
       "      <td>NaN</td>\n",
       "      <td>-0.862134</td>\n",
       "      <td>0.390078</td>\n",
       "      <td>-0.390078</td>\n",
       "      <td>-0.610839</td>\n",
       "      <td>0.610839</td>\n",
       "      <td>-0.411743</td>\n",
       "      <td>1.256779</td>\n",
       "      <td>-0.936722</td>\n",
       "      <td>1.358368</td>\n",
       "      <td>-1.358368</td>\n",
       "    </tr>\n",
       "    <tr>\n",
       "      <th>4</th>\n",
       "      <td>1.743850</td>\n",
       "      <td>-0.622860</td>\n",
       "      <td>-0.542842</td>\n",
       "      <td>1.219775</td>\n",
       "      <td>0.207007</td>\n",
       "      <td>-1.150689</td>\n",
       "      <td>-0.737286</td>\n",
       "      <td>0.499450</td>\n",
       "      <td>0.854218</td>\n",
       "      <td>NaN</td>\n",
       "      <td>0.075934</td>\n",
       "      <td>0.390078</td>\n",
       "      <td>-0.390078</td>\n",
       "      <td>-0.610839</td>\n",
       "      <td>0.610839</td>\n",
       "      <td>-0.411743</td>\n",
       "      <td>1.256779</td>\n",
       "      <td>-0.936722</td>\n",
       "      <td>-0.736136</td>\n",
       "      <td>0.736136</td>\n",
       "    </tr>\n",
       "  </tbody>\n",
       "</table>\n",
       "</div>"
      ],
      "text/plain": [
       "   ACCOUNT_TENURE  ACCT_CNT_SERVICES       AGE  SERVICE_TENURE  \\\n",
       "0        0.203045          -0.622860 -0.609135        0.127748   \n",
       "1        0.643275           1.926416  1.048167        0.417469   \n",
       "2        0.800500          -0.622860 -0.675427        0.551187   \n",
       "3       -0.268631          -0.622860  0.782999       -0.206546   \n",
       "4        1.743850          -0.622860 -0.542842        1.219775   \n",
       "\n",
       "   PLAN_ACCESS_FEE  PLAN_TENURE  MONTHS_OF_CONTRACT_REMAINING  \\\n",
       "0         0.207007     0.218945                     -0.737286   \n",
       "1         0.207007    -0.694144                     -0.737286   \n",
       "2        -0.474441     0.218945                     -0.737286   \n",
       "3        -0.928573     1.679888                     -0.737286   \n",
       "4         0.207007    -1.150689                     -0.737286   \n",
       "\n",
       "   LAST_FX_CONTRACT_DURATION  PREV_CONTRACT_DURATION  CHURN_IND  \\\n",
       "0                   0.499450                0.854218        NaN   \n",
       "1                   0.499450                0.854218        NaN   \n",
       "2                  -0.886541               -0.209617        NaN   \n",
       "3                   0.499450                0.854218        NaN   \n",
       "4                   0.499450                0.854218        NaN   \n",
       "\n",
       "   MONTHLY_SPEND  CFU_CONSUMER  CFU_SMALL BUSINESS       BYO   NON BYO  \\\n",
       "0      -0.312543      0.390078           -0.390078 -0.610839  0.610839   \n",
       "1      -0.381192      0.390078           -0.390078 -0.610839  0.610839   \n",
       "2      -0.901962      0.390078           -0.390078  1.637002 -1.637002   \n",
       "3      -0.862134      0.390078           -0.390078 -0.610839  0.610839   \n",
       "4       0.075934      0.390078           -0.390078 -0.610839  0.610839   \n",
       "\n",
       "   NO-CONTRACT  OFF-CONTRACT  ON-CONTRACT  REGION_COUNTRY  REGION_METRO  \n",
       "0    -0.411743      1.256779    -0.936722        1.358368     -1.358368  \n",
       "1    -0.411743      1.256779    -0.936722       -0.736136      0.736136  \n",
       "2    -0.411743      1.256779    -0.936722        1.358368     -1.358368  \n",
       "3    -0.411743      1.256779    -0.936722        1.358368     -1.358368  \n",
       "4    -0.411743      1.256779    -0.936722       -0.736136      0.736136  "
      ]
     },
     "execution_count": 53,
     "metadata": {},
     "output_type": "execute_result"
    }
   ],
   "source": [
    "df1_norm = (df1 - df1.mean()) / df1.std()\n",
    "df1_norm.head()"
   ]
  },
  {
   "cell_type": "code",
   "execution_count": 54,
   "metadata": {},
   "outputs": [
    {
     "data": {
      "text/html": [
       "<div>\n",
       "<style scoped>\n",
       "    .dataframe tbody tr th:only-of-type {\n",
       "        vertical-align: middle;\n",
       "    }\n",
       "\n",
       "    .dataframe tbody tr th {\n",
       "        vertical-align: top;\n",
       "    }\n",
       "\n",
       "    .dataframe thead th {\n",
       "        text-align: right;\n",
       "    }\n",
       "</style>\n",
       "<table border=\"1\" class=\"dataframe\">\n",
       "  <thead>\n",
       "    <tr style=\"text-align: right;\">\n",
       "      <th></th>\n",
       "      <th>ACCOUNT_TENURE</th>\n",
       "      <th>ACCT_CNT_SERVICES</th>\n",
       "      <th>AGE</th>\n",
       "      <th>SERVICE_TENURE</th>\n",
       "      <th>PLAN_ACCESS_FEE</th>\n",
       "      <th>PLAN_TENURE</th>\n",
       "      <th>MONTHS_OF_CONTRACT_REMAINING</th>\n",
       "      <th>LAST_FX_CONTRACT_DURATION</th>\n",
       "      <th>PREV_CONTRACT_DURATION</th>\n",
       "      <th>CHURN_IND</th>\n",
       "      <th>MONTHLY_SPEND</th>\n",
       "      <th>CFU_CONSUMER</th>\n",
       "      <th>CFU_SMALL BUSINESS</th>\n",
       "      <th>BYO</th>\n",
       "      <th>NON BYO</th>\n",
       "      <th>NO-CONTRACT</th>\n",
       "      <th>OFF-CONTRACT</th>\n",
       "      <th>ON-CONTRACT</th>\n",
       "      <th>REGION_COUNTRY</th>\n",
       "      <th>REGION_METRO</th>\n",
       "    </tr>\n",
       "  </thead>\n",
       "  <tbody>\n",
       "    <tr>\n",
       "      <th>8141</th>\n",
       "      <td>-1.048903</td>\n",
       "      <td>-0.691281</td>\n",
       "      <td>1.525013</td>\n",
       "      <td>-0.758184</td>\n",
       "      <td>-0.944376</td>\n",
       "      <td>0.597501</td>\n",
       "      <td>-0.103851</td>\n",
       "      <td>0.425354</td>\n",
       "      <td>-1.470169</td>\n",
       "      <td>NaN</td>\n",
       "      <td>0.212094</td>\n",
       "      <td>0.445919</td>\n",
       "      <td>-0.445919</td>\n",
       "      <td>-0.511906</td>\n",
       "      <td>0.511906</td>\n",
       "      <td>-0.336024</td>\n",
       "      <td>-0.493582</td>\n",
       "      <td>0.650535</td>\n",
       "      <td>1.578870</td>\n",
       "      <td>-1.578870</td>\n",
       "    </tr>\n",
       "    <tr>\n",
       "      <th>8143</th>\n",
       "      <td>-0.025880</td>\n",
       "      <td>0.469419</td>\n",
       "      <td>0.801833</td>\n",
       "      <td>-0.139807</td>\n",
       "      <td>-0.305700</td>\n",
       "      <td>2.192256</td>\n",
       "      <td>-1.181865</td>\n",
       "      <td>0.425354</td>\n",
       "      <td>0.761659</td>\n",
       "      <td>NaN</td>\n",
       "      <td>0.541361</td>\n",
       "      <td>0.445919</td>\n",
       "      <td>-0.445919</td>\n",
       "      <td>-0.511906</td>\n",
       "      <td>0.511906</td>\n",
       "      <td>-0.336024</td>\n",
       "      <td>2.025934</td>\n",
       "      <td>-1.537143</td>\n",
       "      <td>-0.633342</td>\n",
       "      <td>0.633342</td>\n",
       "    </tr>\n",
       "    <tr>\n",
       "      <th>8147</th>\n",
       "      <td>0.636076</td>\n",
       "      <td>0.469419</td>\n",
       "      <td>-0.578783</td>\n",
       "      <td>-0.103432</td>\n",
       "      <td>0.972590</td>\n",
       "      <td>2.192256</td>\n",
       "      <td>-1.181865</td>\n",
       "      <td>0.425354</td>\n",
       "      <td>0.761659</td>\n",
       "      <td>NaN</td>\n",
       "      <td>2.067555</td>\n",
       "      <td>0.445919</td>\n",
       "      <td>-0.445919</td>\n",
       "      <td>-0.511906</td>\n",
       "      <td>0.511906</td>\n",
       "      <td>-0.336024</td>\n",
       "      <td>2.025934</td>\n",
       "      <td>-1.537143</td>\n",
       "      <td>1.578870</td>\n",
       "      <td>-1.578870</td>\n",
       "    </tr>\n",
       "    <tr>\n",
       "      <th>8157</th>\n",
       "      <td>-1.229437</td>\n",
       "      <td>-0.691281</td>\n",
       "      <td>-1.038988</td>\n",
       "      <td>-0.867310</td>\n",
       "      <td>0.972590</td>\n",
       "      <td>-0.085965</td>\n",
       "      <td>0.614824</td>\n",
       "      <td>0.425354</td>\n",
       "      <td>0.761659</td>\n",
       "      <td>NaN</td>\n",
       "      <td>-0.013037</td>\n",
       "      <td>-2.242483</td>\n",
       "      <td>2.242483</td>\n",
       "      <td>-0.511906</td>\n",
       "      <td>0.511906</td>\n",
       "      <td>-0.336024</td>\n",
       "      <td>-0.493582</td>\n",
       "      <td>0.650535</td>\n",
       "      <td>-0.633342</td>\n",
       "      <td>0.633342</td>\n",
       "    </tr>\n",
       "    <tr>\n",
       "      <th>8160</th>\n",
       "      <td>-0.116147</td>\n",
       "      <td>-0.691281</td>\n",
       "      <td>-0.578783</td>\n",
       "      <td>-0.194370</td>\n",
       "      <td>0.972590</td>\n",
       "      <td>-0.313788</td>\n",
       "      <td>0.854383</td>\n",
       "      <td>0.425354</td>\n",
       "      <td>0.761659</td>\n",
       "      <td>NaN</td>\n",
       "      <td>0.433170</td>\n",
       "      <td>0.445919</td>\n",
       "      <td>-0.445919</td>\n",
       "      <td>-0.511906</td>\n",
       "      <td>0.511906</td>\n",
       "      <td>-0.336024</td>\n",
       "      <td>-0.493582</td>\n",
       "      <td>0.650535</td>\n",
       "      <td>-0.633342</td>\n",
       "      <td>0.633342</td>\n",
       "    </tr>\n",
       "  </tbody>\n",
       "</table>\n",
       "</div>"
      ],
      "text/plain": [
       "      ACCOUNT_TENURE  ACCT_CNT_SERVICES       AGE  SERVICE_TENURE  \\\n",
       "8141       -1.048903          -0.691281  1.525013       -0.758184   \n",
       "8143       -0.025880           0.469419  0.801833       -0.139807   \n",
       "8147        0.636076           0.469419 -0.578783       -0.103432   \n",
       "8157       -1.229437          -0.691281 -1.038988       -0.867310   \n",
       "8160       -0.116147          -0.691281 -0.578783       -0.194370   \n",
       "\n",
       "      PLAN_ACCESS_FEE  PLAN_TENURE  MONTHS_OF_CONTRACT_REMAINING  \\\n",
       "8141        -0.944376     0.597501                     -0.103851   \n",
       "8143        -0.305700     2.192256                     -1.181865   \n",
       "8147         0.972590     2.192256                     -1.181865   \n",
       "8157         0.972590    -0.085965                      0.614824   \n",
       "8160         0.972590    -0.313788                      0.854383   \n",
       "\n",
       "      LAST_FX_CONTRACT_DURATION  PREV_CONTRACT_DURATION  CHURN_IND  \\\n",
       "8141                   0.425354               -1.470169        NaN   \n",
       "8143                   0.425354                0.761659        NaN   \n",
       "8147                   0.425354                0.761659        NaN   \n",
       "8157                   0.425354                0.761659        NaN   \n",
       "8160                   0.425354                0.761659        NaN   \n",
       "\n",
       "      MONTHLY_SPEND  CFU_CONSUMER  CFU_SMALL BUSINESS       BYO   NON BYO  \\\n",
       "8141       0.212094      0.445919           -0.445919 -0.511906  0.511906   \n",
       "8143       0.541361      0.445919           -0.445919 -0.511906  0.511906   \n",
       "8147       2.067555      0.445919           -0.445919 -0.511906  0.511906   \n",
       "8157      -0.013037     -2.242483            2.242483 -0.511906  0.511906   \n",
       "8160       0.433170      0.445919           -0.445919 -0.511906  0.511906   \n",
       "\n",
       "      NO-CONTRACT  OFF-CONTRACT  ON-CONTRACT  REGION_COUNTRY  REGION_METRO  \n",
       "8141    -0.336024     -0.493582     0.650535        1.578870     -1.578870  \n",
       "8143    -0.336024      2.025934    -1.537143       -0.633342      0.633342  \n",
       "8147    -0.336024      2.025934    -1.537143        1.578870     -1.578870  \n",
       "8157    -0.336024     -0.493582     0.650535       -0.633342      0.633342  \n",
       "8160    -0.336024     -0.493582     0.650535       -0.633342      0.633342  "
      ]
     },
     "execution_count": 54,
     "metadata": {},
     "output_type": "execute_result"
    }
   ],
   "source": [
    "df0_norm = (df0 - df0.mean()) / df0.std()\n",
    "df0_norm.head()"
   ]
  },
  {
   "cell_type": "code",
   "execution_count": 55,
   "metadata": {},
   "outputs": [
    {
     "ename": "ValueError",
     "evalue": "The condensed distance matrix must contain only finite values.",
     "output_type": "error",
     "traceback": [
      "\u001b[1;31m---------------------------------------------------------------------------\u001b[0m",
      "\u001b[1;31mValueError\u001b[0m                                Traceback (most recent call last)",
      "\u001b[1;32m<ipython-input-55-0e4582675f15>\u001b[0m in \u001b[0;36m<module>\u001b[1;34m\u001b[0m\n\u001b[0;32m      1\u001b[0m \u001b[0mdist\u001b[0m \u001b[1;33m=\u001b[0m \u001b[0mpdist\u001b[0m\u001b[1;33m(\u001b[0m\u001b[0mdf1_norm\u001b[0m\u001b[1;33m,\u001b[0m \u001b[1;34m'euclidean'\u001b[0m\u001b[1;33m)\u001b[0m\u001b[1;33m\u001b[0m\u001b[1;33m\u001b[0m\u001b[0m\n\u001b[1;32m----> 2\u001b[1;33m \u001b[0mlinkage_matrix\u001b[0m \u001b[1;33m=\u001b[0m \u001b[0mlinkage\u001b[0m\u001b[1;33m(\u001b[0m\u001b[0mdist\u001b[0m\u001b[1;33m,\u001b[0m \u001b[0mmethod\u001b[0m\u001b[1;33m=\u001b[0m\u001b[1;34m'ward'\u001b[0m\u001b[1;33m)\u001b[0m\u001b[1;33m\u001b[0m\u001b[1;33m\u001b[0m\u001b[0m\n\u001b[0m",
      "\u001b[1;32m~\\Anaconda3\\lib\\site-packages\\scipy\\cluster\\hierarchy.py\u001b[0m in \u001b[0;36mlinkage\u001b[1;34m(y, method, metric, optimal_ordering)\u001b[0m\n\u001b[0;32m   1059\u001b[0m \u001b[1;33m\u001b[0m\u001b[0m\n\u001b[0;32m   1060\u001b[0m     \u001b[1;32mif\u001b[0m \u001b[1;32mnot\u001b[0m \u001b[0mnp\u001b[0m\u001b[1;33m.\u001b[0m\u001b[0mall\u001b[0m\u001b[1;33m(\u001b[0m\u001b[0mnp\u001b[0m\u001b[1;33m.\u001b[0m\u001b[0misfinite\u001b[0m\u001b[1;33m(\u001b[0m\u001b[0my\u001b[0m\u001b[1;33m)\u001b[0m\u001b[1;33m)\u001b[0m\u001b[1;33m:\u001b[0m\u001b[1;33m\u001b[0m\u001b[1;33m\u001b[0m\u001b[0m\n\u001b[1;32m-> 1061\u001b[1;33m         raise ValueError(\"The condensed distance matrix must contain only \"\n\u001b[0m\u001b[0;32m   1062\u001b[0m                          \"finite values.\")\n\u001b[0;32m   1063\u001b[0m \u001b[1;33m\u001b[0m\u001b[0m\n",
      "\u001b[1;31mValueError\u001b[0m: The condensed distance matrix must contain only finite values."
     ]
    }
   ],
   "source": [
    "dist = pdist(df1_norm, 'euclidean')\n",
    "linkage_matrix = linkage(dist, method='ward')"
   ]
  },
  {
   "cell_type": "code",
   "execution_count": null,
   "metadata": {},
   "outputs": [],
   "source": [
    "plt.figure(figsize=(20, 10))\n",
    "dendrogram(linkage_matrix)\n",
    "plt.show()"
   ]
  },
  {
   "cell_type": "code",
   "execution_count": null,
   "metadata": {},
   "outputs": [],
   "source": []
  },
  {
   "cell_type": "code",
   "execution_count": null,
   "metadata": {},
   "outputs": [],
   "source": []
  },
  {
   "cell_type": "markdown",
   "metadata": {},
   "source": [
    "### Following are some misc plots to get more visual understanding of the data"
   ]
  },
  {
   "cell_type": "code",
   "execution_count": 56,
   "metadata": {},
   "outputs": [
    {
     "data": {
      "text/plain": [
       "<matplotlib.axes._subplots.AxesSubplot at 0x1d2e37fb2c8>"
      ]
     },
     "execution_count": 56,
     "metadata": {},
     "output_type": "execute_result"
    },
    {
     "data": {
      "image/png": "[encoded data removed]",
      "text/plain": [
       "<Figure size 1440x360 with 1 Axes>"
      ]
     },
     "metadata": {
      "needs_background": "light"
     },
     "output_type": "display_data"
    }
   ],
   "source": [
    "churn.ACCT_CNT_SERVICES.value_counts().sort_index().plot(figsize=(20,5))"
   ]
  },
  {
   "cell_type": "code",
   "execution_count": 57,
   "metadata": {},
   "outputs": [
    {
     "data": {
      "text/plain": [
       "<matplotlib.axes._subplots.AxesSubplot at 0x1d2e386f548>"
      ]
     },
     "execution_count": 57,
     "metadata": {},
     "output_type": "execute_result"
    },
    {
     "data": {
      "image/png": "[encoded data removed]",
      "text/plain": [
       "<Figure size 1440x360 with 1 Axes>"
      ]
     },
     "metadata": {
      "needs_background": "light"
     },
     "output_type": "display_data"
    }
   ],
   "source": [
    "churn.AGE.value_counts().sort_index().plot(figsize=(20,5))"
   ]
  },
  {
   "cell_type": "code",
   "execution_count": 59,
   "metadata": {},
   "outputs": [
    {
     "data": {
      "text/plain": [
       "<matplotlib.axes._subplots.AxesSubplot at 0x1d2dea49ec8>"
      ]
     },
     "execution_count": 59,
     "metadata": {},
     "output_type": "execute_result"
    },
    {
     "data": {
      "image/png": "[encoded data removed]",
      "text/plain": [
       "<Figure size 1440x360 with 1 Axes>"
      ]
     },
     "metadata": {
      "needs_background": "light"
     },
     "output_type": "display_data"
    }
   ],
   "source": [
    "churn.SERVICE_TENURE.value_counts().sort_index().plot(figsize=(20,5))"
   ]
  },
  {
   "cell_type": "code",
   "execution_count": 60,
   "metadata": {},
   "outputs": [
    {
     "data": {
      "text/plain": [
       "<matplotlib.axes._subplots.AxesSubplot at 0x1d2e6ad1788>"
      ]
     },
     "execution_count": 60,
     "metadata": {},
     "output_type": "execute_result"
    },
    {
     "data": {
      "image/png": "[encoded data removed]",
      "text/plain": [
       "<Figure size 1440x360 with 1 Axes>"
      ]
     },
     "metadata": {
      "needs_background": "light"
     },
     "output_type": "display_data"
    }
   ],
   "source": [
    "churn.PLAN_ACCESS_FEE.value_counts().sort_index().plot(figsize=(20,5))"
   ]
  },
  {
   "cell_type": "code",
   "execution_count": 61,
   "metadata": {},
   "outputs": [
    {
     "data": {
      "text/plain": [
       "<matplotlib.axes._subplots.AxesSubplot at 0x1d2e6cecf08>"
      ]
     },
     "execution_count": 61,
     "metadata": {},
     "output_type": "execute_result"
    },
    {
     "data": {
      "image/png": "[encoded data removed]",
      "text/plain": [
       "<Figure size 1440x360 with 1 Axes>"
      ]
     },
     "metadata": {
      "needs_background": "light"
     },
     "output_type": "display_data"
    }
   ],
   "source": [
    "churn.PLAN_TENURE.value_counts().sort_index().plot(figsize=(20,5))"
   ]
  },
  {
   "cell_type": "code",
   "execution_count": 69,
   "metadata": {},
   "outputs": [
    {
     "data": {
      "text/plain": [
       "0    28366\n",
       "1    17763\n",
       "Name: CHURN_IND, dtype: int64"
      ]
     },
     "execution_count": 69,
     "metadata": {},
     "output_type": "execute_result"
    }
   ],
   "source": [
    "churn.CHURN_IND.value_counts()"
   ]
  },
  {
   "cell_type": "code",
   "execution_count": null,
   "metadata": {},
   "outputs": [],
   "source": []
  },
  {
   "cell_type": "code",
   "execution_count": null,
   "metadata": {},
   "outputs": [],
   "source": []
  }
 ],
 "metadata": {
  "kernelspec": {
   "display_name": "Python 3",
   "language": "python",
   "name": "python3"
  },
  "language_info": {
   "codemirror_mode": {
    "name": "ipython",
    "version": 3
   },
   "file_extension": ".py",
   "mimetype": "text/x-python",
   "name": "python",
   "nbconvert_exporter": "python",
   "pygments_lexer": "ipython3",
   "version": "3.7.6"
  }
 },
 "nbformat": 4,
 "nbformat_minor": 4
}
